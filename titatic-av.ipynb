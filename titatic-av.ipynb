{
 "cells": [
  {
   "cell_type": "markdown",
   "id": "442bb3e1",
   "metadata": {
    "papermill": {
     "duration": 0.016515,
     "end_time": "2023-03-27T13:43:39.049815",
     "exception": false,
     "start_time": "2023-03-27T13:43:39.033300",
     "status": "completed"
    },
    "tags": []
   },
   "source": [
    "# Compétition Kaggle : Projet Titanic "
   ]
  },
  {
   "cell_type": "markdown",
   "id": "3b1e48ca",
   "metadata": {
    "papermill": {
     "duration": 0.01472,
     "end_time": "2023-03-27T13:43:39.079959",
     "exception": false,
     "start_time": "2023-03-27T13:43:39.065239",
     "status": "completed"
    },
    "tags": []
   },
   "source": [
    "# Partie 1 : Collecte des données"
   ]
  },
  {
   "cell_type": "code",
   "execution_count": 1,
   "id": "331348c0",
   "metadata": {
    "execution": {
     "iopub.execute_input": "2023-03-27T13:43:39.112071Z",
     "iopub.status.busy": "2023-03-27T13:43:39.111404Z",
     "iopub.status.idle": "2023-03-27T13:43:40.370740Z",
     "shell.execute_reply": "2023-03-27T13:43:40.369542Z"
    },
    "papermill": {
     "duration": 1.278815,
     "end_time": "2023-03-27T13:43:40.373721",
     "exception": false,
     "start_time": "2023-03-27T13:43:39.094906",
     "status": "completed"
    },
    "tags": []
   },
   "outputs": [],
   "source": [
    "#On importe les librairies que l'on va utiliser\n",
    "import numpy as np\n",
    "import pandas as pd\n",
    "import matplotlib.pyplot as plt\n",
    "import seaborn as sns\n",
    "from matplotlib.collections import LineCollection"
   ]
  },
  {
   "cell_type": "code",
   "execution_count": 2,
   "id": "a34f9963",
   "metadata": {
    "execution": {
     "iopub.execute_input": "2023-03-27T13:43:40.407602Z",
     "iopub.status.busy": "2023-03-27T13:43:40.407167Z",
     "iopub.status.idle": "2023-03-27T13:43:40.412148Z",
     "shell.execute_reply": "2023-03-27T13:43:40.411261Z"
    },
    "papermill": {
     "duration": 0.024152,
     "end_time": "2023-03-27T13:43:40.414510",
     "exception": false,
     "start_time": "2023-03-27T13:43:40.390358",
     "status": "completed"
    },
    "tags": []
   },
   "outputs": [],
   "source": [
    "#On importe le fichier csv\n",
    "import os\n",
    "os.getcwd()\n",
    "os.chdir(\"/kaggle/input/titanic\")"
   ]
  },
  {
   "cell_type": "code",
   "execution_count": 3,
   "id": "956f9336",
   "metadata": {
    "execution": {
     "iopub.execute_input": "2023-03-27T13:43:40.447113Z",
     "iopub.status.busy": "2023-03-27T13:43:40.446393Z",
     "iopub.status.idle": "2023-03-27T13:43:40.483170Z",
     "shell.execute_reply": "2023-03-27T13:43:40.482225Z"
    },
    "papermill": {
     "duration": 0.056255,
     "end_time": "2023-03-27T13:43:40.485846",
     "exception": false,
     "start_time": "2023-03-27T13:43:40.429591",
     "status": "completed"
    },
    "tags": []
   },
   "outputs": [],
   "source": [
    "#Chargement du fichier CSV\n",
    "gender_sub = pd.read_csv(\"gender_submission.csv\")\n",
    "train = pd.read_csv(\"train.csv\")\n",
    "test = pd.read_csv(\"test.csv\")"
   ]
  },
  {
   "cell_type": "markdown",
   "id": "12f845ea",
   "metadata": {
    "papermill": {
     "duration": 0.014674,
     "end_time": "2023-03-27T13:43:40.516064",
     "exception": false,
     "start_time": "2023-03-27T13:43:40.501390",
     "status": "completed"
    },
    "tags": []
   },
   "source": [
    "# *Data Dictionary*\n",
    "* Variable\tDefinition\tKey\n",
    "* survival\tSurvival\t0 = No, 1 = Yes\n",
    "* pclass\tTicket class\t1 = 1st, 2 = 2nd, 3 = 3rd\n",
    "* sex\tSex\t\n",
    "* Age\tAge in years\t\n",
    "* sibsp\t# of siblings / spouses aboard the Titanic\t\n",
    "* parch\t# of parents / children aboard the Titanic\t\n",
    "* ticket\tTicket number\t\n",
    "* fare\tPassenger fare\t\n",
    "* cabin\tCabin number\t\n",
    "* embarked\tPort of Embarkation\tC = Cherbourg, Q = Queenstown, S = Southampton\n",
    "\n",
    "# Variable Notes\n",
    "**pclass:** A proxy for socio-economic status (SES)\n",
    "1. * 1st = Upper\n",
    "1. * 2nd = Middle\n",
    "1. * 3rd = Lower\n",
    "**age:** Age is fractional if less than 1. If the age is estimated, is it in the form of xx.5\n",
    "\n",
    "**sibsp:** The dataset defines family relations in this way...\n",
    "1. * Sibling = brother, sister, stepbrother, stepsister\n",
    "1. * Spouse = husband, wife (mistresses and fiancés were ignored)\n",
    "**parch:** The dataset defines family relations in this way...\n",
    "1. * Parent = mother, father\n",
    "1. * Child = daughter, son, stepdaughter, stepson\n",
    "1. * Some children travelled only with a nanny, therefore parch=0 for them."
   ]
  },
  {
   "cell_type": "markdown",
   "id": "08933c04",
   "metadata": {
    "papermill": {
     "duration": 0.014482,
     "end_time": "2023-03-27T13:43:40.545523",
     "exception": false,
     "start_time": "2023-03-27T13:43:40.531041",
     "status": "completed"
    },
    "tags": []
   },
   "source": [
    "# Apercus des CSV"
   ]
  },
  {
   "cell_type": "code",
   "execution_count": 4,
   "id": "8dc6e0c2",
   "metadata": {
    "execution": {
     "iopub.execute_input": "2023-03-27T13:43:40.577814Z",
     "iopub.status.busy": "2023-03-27T13:43:40.577020Z",
     "iopub.status.idle": "2023-03-27T13:43:40.600331Z",
     "shell.execute_reply": "2023-03-27T13:43:40.599068Z"
    },
    "papermill": {
     "duration": 0.042251,
     "end_time": "2023-03-27T13:43:40.602717",
     "exception": false,
     "start_time": "2023-03-27T13:43:40.560466",
     "status": "completed"
    },
    "tags": []
   },
   "outputs": [
    {
     "data": {
      "text/html": [
       "<div>\n",
       "<style scoped>\n",
       "    .dataframe tbody tr th:only-of-type {\n",
       "        vertical-align: middle;\n",
       "    }\n",
       "\n",
       "    .dataframe tbody tr th {\n",
       "        vertical-align: top;\n",
       "    }\n",
       "\n",
       "    .dataframe thead th {\n",
       "        text-align: right;\n",
       "    }\n",
       "</style>\n",
       "<table border=\"1\" class=\"dataframe\">\n",
       "  <thead>\n",
       "    <tr style=\"text-align: right;\">\n",
       "      <th></th>\n",
       "      <th>PassengerId</th>\n",
       "      <th>Survived</th>\n",
       "    </tr>\n",
       "  </thead>\n",
       "  <tbody>\n",
       "    <tr>\n",
       "      <th>0</th>\n",
       "      <td>892</td>\n",
       "      <td>0</td>\n",
       "    </tr>\n",
       "    <tr>\n",
       "      <th>1</th>\n",
       "      <td>893</td>\n",
       "      <td>1</td>\n",
       "    </tr>\n",
       "    <tr>\n",
       "      <th>2</th>\n",
       "      <td>894</td>\n",
       "      <td>0</td>\n",
       "    </tr>\n",
       "    <tr>\n",
       "      <th>3</th>\n",
       "      <td>895</td>\n",
       "      <td>0</td>\n",
       "    </tr>\n",
       "    <tr>\n",
       "      <th>4</th>\n",
       "      <td>896</td>\n",
       "      <td>1</td>\n",
       "    </tr>\n",
       "  </tbody>\n",
       "</table>\n",
       "</div>"
      ],
      "text/plain": [
       "   PassengerId  Survived\n",
       "0          892         0\n",
       "1          893         1\n",
       "2          894         0\n",
       "3          895         0\n",
       "4          896         1"
      ]
     },
     "execution_count": 4,
     "metadata": {},
     "output_type": "execute_result"
    }
   ],
   "source": [
    "gender_sub.head()"
   ]
  },
  {
   "cell_type": "code",
   "execution_count": 5,
   "id": "1c0f31b9",
   "metadata": {
    "execution": {
     "iopub.execute_input": "2023-03-27T13:43:40.635427Z",
     "iopub.status.busy": "2023-03-27T13:43:40.634977Z",
     "iopub.status.idle": "2023-03-27T13:43:40.652712Z",
     "shell.execute_reply": "2023-03-27T13:43:40.651511Z"
    },
    "papermill": {
     "duration": 0.036868,
     "end_time": "2023-03-27T13:43:40.655234",
     "exception": false,
     "start_time": "2023-03-27T13:43:40.618366",
     "status": "completed"
    },
    "tags": []
   },
   "outputs": [
    {
     "data": {
      "text/html": [
       "<div>\n",
       "<style scoped>\n",
       "    .dataframe tbody tr th:only-of-type {\n",
       "        vertical-align: middle;\n",
       "    }\n",
       "\n",
       "    .dataframe tbody tr th {\n",
       "        vertical-align: top;\n",
       "    }\n",
       "\n",
       "    .dataframe thead th {\n",
       "        text-align: right;\n",
       "    }\n",
       "</style>\n",
       "<table border=\"1\" class=\"dataframe\">\n",
       "  <thead>\n",
       "    <tr style=\"text-align: right;\">\n",
       "      <th></th>\n",
       "      <th>PassengerId</th>\n",
       "      <th>Survived</th>\n",
       "      <th>Pclass</th>\n",
       "      <th>Name</th>\n",
       "      <th>Sex</th>\n",
       "      <th>Age</th>\n",
       "      <th>SibSp</th>\n",
       "      <th>Parch</th>\n",
       "      <th>Ticket</th>\n",
       "      <th>Fare</th>\n",
       "      <th>Cabin</th>\n",
       "      <th>Embarked</th>\n",
       "    </tr>\n",
       "  </thead>\n",
       "  <tbody>\n",
       "    <tr>\n",
       "      <th>0</th>\n",
       "      <td>1</td>\n",
       "      <td>0</td>\n",
       "      <td>3</td>\n",
       "      <td>Braund, Mr. Owen Harris</td>\n",
       "      <td>male</td>\n",
       "      <td>22.0</td>\n",
       "      <td>1</td>\n",
       "      <td>0</td>\n",
       "      <td>A/5 21171</td>\n",
       "      <td>7.2500</td>\n",
       "      <td>NaN</td>\n",
       "      <td>S</td>\n",
       "    </tr>\n",
       "    <tr>\n",
       "      <th>1</th>\n",
       "      <td>2</td>\n",
       "      <td>1</td>\n",
       "      <td>1</td>\n",
       "      <td>Cumings, Mrs. John Bradley (Florence Briggs Th...</td>\n",
       "      <td>female</td>\n",
       "      <td>38.0</td>\n",
       "      <td>1</td>\n",
       "      <td>0</td>\n",
       "      <td>PC 17599</td>\n",
       "      <td>71.2833</td>\n",
       "      <td>C85</td>\n",
       "      <td>C</td>\n",
       "    </tr>\n",
       "    <tr>\n",
       "      <th>2</th>\n",
       "      <td>3</td>\n",
       "      <td>1</td>\n",
       "      <td>3</td>\n",
       "      <td>Heikkinen, Miss. Laina</td>\n",
       "      <td>female</td>\n",
       "      <td>26.0</td>\n",
       "      <td>0</td>\n",
       "      <td>0</td>\n",
       "      <td>STON/O2. 3101282</td>\n",
       "      <td>7.9250</td>\n",
       "      <td>NaN</td>\n",
       "      <td>S</td>\n",
       "    </tr>\n",
       "    <tr>\n",
       "      <th>3</th>\n",
       "      <td>4</td>\n",
       "      <td>1</td>\n",
       "      <td>1</td>\n",
       "      <td>Futrelle, Mrs. Jacques Heath (Lily May Peel)</td>\n",
       "      <td>female</td>\n",
       "      <td>35.0</td>\n",
       "      <td>1</td>\n",
       "      <td>0</td>\n",
       "      <td>113803</td>\n",
       "      <td>53.1000</td>\n",
       "      <td>C123</td>\n",
       "      <td>S</td>\n",
       "    </tr>\n",
       "    <tr>\n",
       "      <th>4</th>\n",
       "      <td>5</td>\n",
       "      <td>0</td>\n",
       "      <td>3</td>\n",
       "      <td>Allen, Mr. William Henry</td>\n",
       "      <td>male</td>\n",
       "      <td>35.0</td>\n",
       "      <td>0</td>\n",
       "      <td>0</td>\n",
       "      <td>373450</td>\n",
       "      <td>8.0500</td>\n",
       "      <td>NaN</td>\n",
       "      <td>S</td>\n",
       "    </tr>\n",
       "  </tbody>\n",
       "</table>\n",
       "</div>"
      ],
      "text/plain": [
       "   PassengerId  Survived  Pclass  \\\n",
       "0            1         0       3   \n",
       "1            2         1       1   \n",
       "2            3         1       3   \n",
       "3            4         1       1   \n",
       "4            5         0       3   \n",
       "\n",
       "                                                Name     Sex   Age  SibSp  \\\n",
       "0                            Braund, Mr. Owen Harris    male  22.0      1   \n",
       "1  Cumings, Mrs. John Bradley (Florence Briggs Th...  female  38.0      1   \n",
       "2                             Heikkinen, Miss. Laina  female  26.0      0   \n",
       "3       Futrelle, Mrs. Jacques Heath (Lily May Peel)  female  35.0      1   \n",
       "4                           Allen, Mr. William Henry    male  35.0      0   \n",
       "\n",
       "   Parch            Ticket     Fare Cabin Embarked  \n",
       "0      0         A/5 21171   7.2500   NaN        S  \n",
       "1      0          PC 17599  71.2833   C85        C  \n",
       "2      0  STON/O2. 3101282   7.9250   NaN        S  \n",
       "3      0            113803  53.1000  C123        S  \n",
       "4      0            373450   8.0500   NaN        S  "
      ]
     },
     "execution_count": 5,
     "metadata": {},
     "output_type": "execute_result"
    }
   ],
   "source": [
    "train.head()"
   ]
  },
  {
   "cell_type": "code",
   "execution_count": 6,
   "id": "7275d431",
   "metadata": {
    "execution": {
     "iopub.execute_input": "2023-03-27T13:43:40.689045Z",
     "iopub.status.busy": "2023-03-27T13:43:40.687983Z",
     "iopub.status.idle": "2023-03-27T13:43:40.705086Z",
     "shell.execute_reply": "2023-03-27T13:43:40.703929Z"
    },
    "papermill": {
     "duration": 0.036676,
     "end_time": "2023-03-27T13:43:40.707611",
     "exception": false,
     "start_time": "2023-03-27T13:43:40.670935",
     "status": "completed"
    },
    "tags": []
   },
   "outputs": [
    {
     "data": {
      "text/html": [
       "<div>\n",
       "<style scoped>\n",
       "    .dataframe tbody tr th:only-of-type {\n",
       "        vertical-align: middle;\n",
       "    }\n",
       "\n",
       "    .dataframe tbody tr th {\n",
       "        vertical-align: top;\n",
       "    }\n",
       "\n",
       "    .dataframe thead th {\n",
       "        text-align: right;\n",
       "    }\n",
       "</style>\n",
       "<table border=\"1\" class=\"dataframe\">\n",
       "  <thead>\n",
       "    <tr style=\"text-align: right;\">\n",
       "      <th></th>\n",
       "      <th>PassengerId</th>\n",
       "      <th>Pclass</th>\n",
       "      <th>Name</th>\n",
       "      <th>Sex</th>\n",
       "      <th>Age</th>\n",
       "      <th>SibSp</th>\n",
       "      <th>Parch</th>\n",
       "      <th>Ticket</th>\n",
       "      <th>Fare</th>\n",
       "      <th>Cabin</th>\n",
       "      <th>Embarked</th>\n",
       "    </tr>\n",
       "  </thead>\n",
       "  <tbody>\n",
       "    <tr>\n",
       "      <th>0</th>\n",
       "      <td>892</td>\n",
       "      <td>3</td>\n",
       "      <td>Kelly, Mr. James</td>\n",
       "      <td>male</td>\n",
       "      <td>34.5</td>\n",
       "      <td>0</td>\n",
       "      <td>0</td>\n",
       "      <td>330911</td>\n",
       "      <td>7.8292</td>\n",
       "      <td>NaN</td>\n",
       "      <td>Q</td>\n",
       "    </tr>\n",
       "    <tr>\n",
       "      <th>1</th>\n",
       "      <td>893</td>\n",
       "      <td>3</td>\n",
       "      <td>Wilkes, Mrs. James (Ellen Needs)</td>\n",
       "      <td>female</td>\n",
       "      <td>47.0</td>\n",
       "      <td>1</td>\n",
       "      <td>0</td>\n",
       "      <td>363272</td>\n",
       "      <td>7.0000</td>\n",
       "      <td>NaN</td>\n",
       "      <td>S</td>\n",
       "    </tr>\n",
       "    <tr>\n",
       "      <th>2</th>\n",
       "      <td>894</td>\n",
       "      <td>2</td>\n",
       "      <td>Myles, Mr. Thomas Francis</td>\n",
       "      <td>male</td>\n",
       "      <td>62.0</td>\n",
       "      <td>0</td>\n",
       "      <td>0</td>\n",
       "      <td>240276</td>\n",
       "      <td>9.6875</td>\n",
       "      <td>NaN</td>\n",
       "      <td>Q</td>\n",
       "    </tr>\n",
       "    <tr>\n",
       "      <th>3</th>\n",
       "      <td>895</td>\n",
       "      <td>3</td>\n",
       "      <td>Wirz, Mr. Albert</td>\n",
       "      <td>male</td>\n",
       "      <td>27.0</td>\n",
       "      <td>0</td>\n",
       "      <td>0</td>\n",
       "      <td>315154</td>\n",
       "      <td>8.6625</td>\n",
       "      <td>NaN</td>\n",
       "      <td>S</td>\n",
       "    </tr>\n",
       "    <tr>\n",
       "      <th>4</th>\n",
       "      <td>896</td>\n",
       "      <td>3</td>\n",
       "      <td>Hirvonen, Mrs. Alexander (Helga E Lindqvist)</td>\n",
       "      <td>female</td>\n",
       "      <td>22.0</td>\n",
       "      <td>1</td>\n",
       "      <td>1</td>\n",
       "      <td>3101298</td>\n",
       "      <td>12.2875</td>\n",
       "      <td>NaN</td>\n",
       "      <td>S</td>\n",
       "    </tr>\n",
       "  </tbody>\n",
       "</table>\n",
       "</div>"
      ],
      "text/plain": [
       "   PassengerId  Pclass                                          Name     Sex  \\\n",
       "0          892       3                              Kelly, Mr. James    male   \n",
       "1          893       3              Wilkes, Mrs. James (Ellen Needs)  female   \n",
       "2          894       2                     Myles, Mr. Thomas Francis    male   \n",
       "3          895       3                              Wirz, Mr. Albert    male   \n",
       "4          896       3  Hirvonen, Mrs. Alexander (Helga E Lindqvist)  female   \n",
       "\n",
       "    Age  SibSp  Parch   Ticket     Fare Cabin Embarked  \n",
       "0  34.5      0      0   330911   7.8292   NaN        Q  \n",
       "1  47.0      1      0   363272   7.0000   NaN        S  \n",
       "2  62.0      0      0   240276   9.6875   NaN        Q  \n",
       "3  27.0      0      0   315154   8.6625   NaN        S  \n",
       "4  22.0      1      1  3101298  12.2875   NaN        S  "
      ]
     },
     "execution_count": 6,
     "metadata": {},
     "output_type": "execute_result"
    }
   ],
   "source": [
    "test.head()"
   ]
  },
  {
   "cell_type": "markdown",
   "id": "daacf424",
   "metadata": {
    "papermill": {
     "duration": 0.015417,
     "end_time": "2023-03-27T13:43:40.738968",
     "exception": false,
     "start_time": "2023-03-27T13:43:40.723551",
     "status": "completed"
    },
    "tags": []
   },
   "source": [
    "Il semble que le CSV train soit plus complet"
   ]
  },
  {
   "cell_type": "code",
   "execution_count": 7,
   "id": "5456ff22",
   "metadata": {
    "execution": {
     "iopub.execute_input": "2023-03-27T13:43:40.773153Z",
     "iopub.status.busy": "2023-03-27T13:43:40.772149Z",
     "iopub.status.idle": "2023-03-27T13:43:40.817321Z",
     "shell.execute_reply": "2023-03-27T13:43:40.816076Z"
    },
    "papermill": {
     "duration": 0.06494,
     "end_time": "2023-03-27T13:43:40.819707",
     "exception": false,
     "start_time": "2023-03-27T13:43:40.754767",
     "status": "completed"
    },
    "tags": []
   },
   "outputs": [
    {
     "data": {
      "text/html": [
       "<div>\n",
       "<style scoped>\n",
       "    .dataframe tbody tr th:only-of-type {\n",
       "        vertical-align: middle;\n",
       "    }\n",
       "\n",
       "    .dataframe tbody tr th {\n",
       "        vertical-align: top;\n",
       "    }\n",
       "\n",
       "    .dataframe thead th {\n",
       "        text-align: right;\n",
       "    }\n",
       "</style>\n",
       "<table border=\"1\" class=\"dataframe\">\n",
       "  <thead>\n",
       "    <tr style=\"text-align: right;\">\n",
       "      <th></th>\n",
       "      <th>PassengerId</th>\n",
       "      <th>Survived</th>\n",
       "      <th>Pclass</th>\n",
       "      <th>Age</th>\n",
       "      <th>SibSp</th>\n",
       "      <th>Parch</th>\n",
       "      <th>Fare</th>\n",
       "    </tr>\n",
       "  </thead>\n",
       "  <tbody>\n",
       "    <tr>\n",
       "      <th>count</th>\n",
       "      <td>891.000000</td>\n",
       "      <td>891.000000</td>\n",
       "      <td>891.000000</td>\n",
       "      <td>714.000000</td>\n",
       "      <td>891.000000</td>\n",
       "      <td>891.000000</td>\n",
       "      <td>891.000000</td>\n",
       "    </tr>\n",
       "    <tr>\n",
       "      <th>mean</th>\n",
       "      <td>446.000000</td>\n",
       "      <td>0.383838</td>\n",
       "      <td>2.308642</td>\n",
       "      <td>29.699118</td>\n",
       "      <td>0.523008</td>\n",
       "      <td>0.381594</td>\n",
       "      <td>32.204208</td>\n",
       "    </tr>\n",
       "    <tr>\n",
       "      <th>std</th>\n",
       "      <td>257.353842</td>\n",
       "      <td>0.486592</td>\n",
       "      <td>0.836071</td>\n",
       "      <td>14.526497</td>\n",
       "      <td>1.102743</td>\n",
       "      <td>0.806057</td>\n",
       "      <td>49.693429</td>\n",
       "    </tr>\n",
       "    <tr>\n",
       "      <th>min</th>\n",
       "      <td>1.000000</td>\n",
       "      <td>0.000000</td>\n",
       "      <td>1.000000</td>\n",
       "      <td>0.420000</td>\n",
       "      <td>0.000000</td>\n",
       "      <td>0.000000</td>\n",
       "      <td>0.000000</td>\n",
       "    </tr>\n",
       "    <tr>\n",
       "      <th>25%</th>\n",
       "      <td>223.500000</td>\n",
       "      <td>0.000000</td>\n",
       "      <td>2.000000</td>\n",
       "      <td>20.125000</td>\n",
       "      <td>0.000000</td>\n",
       "      <td>0.000000</td>\n",
       "      <td>7.910400</td>\n",
       "    </tr>\n",
       "    <tr>\n",
       "      <th>50%</th>\n",
       "      <td>446.000000</td>\n",
       "      <td>0.000000</td>\n",
       "      <td>3.000000</td>\n",
       "      <td>28.000000</td>\n",
       "      <td>0.000000</td>\n",
       "      <td>0.000000</td>\n",
       "      <td>14.454200</td>\n",
       "    </tr>\n",
       "    <tr>\n",
       "      <th>75%</th>\n",
       "      <td>668.500000</td>\n",
       "      <td>1.000000</td>\n",
       "      <td>3.000000</td>\n",
       "      <td>38.000000</td>\n",
       "      <td>1.000000</td>\n",
       "      <td>0.000000</td>\n",
       "      <td>31.000000</td>\n",
       "    </tr>\n",
       "    <tr>\n",
       "      <th>max</th>\n",
       "      <td>891.000000</td>\n",
       "      <td>1.000000</td>\n",
       "      <td>3.000000</td>\n",
       "      <td>80.000000</td>\n",
       "      <td>8.000000</td>\n",
       "      <td>6.000000</td>\n",
       "      <td>512.329200</td>\n",
       "    </tr>\n",
       "  </tbody>\n",
       "</table>\n",
       "</div>"
      ],
      "text/plain": [
       "       PassengerId    Survived      Pclass         Age       SibSp  \\\n",
       "count   891.000000  891.000000  891.000000  714.000000  891.000000   \n",
       "mean    446.000000    0.383838    2.308642   29.699118    0.523008   \n",
       "std     257.353842    0.486592    0.836071   14.526497    1.102743   \n",
       "min       1.000000    0.000000    1.000000    0.420000    0.000000   \n",
       "25%     223.500000    0.000000    2.000000   20.125000    0.000000   \n",
       "50%     446.000000    0.000000    3.000000   28.000000    0.000000   \n",
       "75%     668.500000    1.000000    3.000000   38.000000    1.000000   \n",
       "max     891.000000    1.000000    3.000000   80.000000    8.000000   \n",
       "\n",
       "            Parch        Fare  \n",
       "count  891.000000  891.000000  \n",
       "mean     0.381594   32.204208  \n",
       "std      0.806057   49.693429  \n",
       "min      0.000000    0.000000  \n",
       "25%      0.000000    7.910400  \n",
       "50%      0.000000   14.454200  \n",
       "75%      0.000000   31.000000  \n",
       "max      6.000000  512.329200  "
      ]
     },
     "execution_count": 7,
     "metadata": {},
     "output_type": "execute_result"
    }
   ],
   "source": [
    "#describe pour avoir un apercus \n",
    "train.describe()"
   ]
  },
  {
   "cell_type": "code",
   "execution_count": 8,
   "id": "0f77b61d",
   "metadata": {
    "execution": {
     "iopub.execute_input": "2023-03-27T13:43:40.854028Z",
     "iopub.status.busy": "2023-03-27T13:43:40.853037Z",
     "iopub.status.idle": "2023-03-27T13:43:41.389445Z",
     "shell.execute_reply": "2023-03-27T13:43:41.388307Z"
    },
    "papermill": {
     "duration": 0.556798,
     "end_time": "2023-03-27T13:43:41.392521",
     "exception": false,
     "start_time": "2023-03-27T13:43:40.835723",
     "status": "completed"
    },
    "tags": []
   },
   "outputs": [
    {
     "name": "stdout",
     "output_type": "stream",
     "text": [
      "PassengerId      0\n",
      "Survived         0\n",
      "Pclass           0\n",
      "Name             0\n",
      "Sex              0\n",
      "Age            177\n",
      "SibSp            0\n",
      "Parch            0\n",
      "Ticket           0\n",
      "Fare             0\n",
      "Cabin          687\n",
      "Embarked         2\n",
      "dtype: int64\n"
     ]
    },
    {
     "data": {
      "text/plain": [
       "<AxesSubplot:>"
      ]
     },
     "execution_count": 8,
     "metadata": {},
     "output_type": "execute_result"
    },
    {
     "data": {
      "image/png": "[encoded data removed]",
      "text/plain": [
       "<Figure size 640x480 with 2 Axes>"
      ]
     },
     "metadata": {},
     "output_type": "display_data"
    }
   ],
   "source": [
    "#voir les erreurs et valeurs manquantes\n",
    "print(train.isna().sum())\n",
    "sns.heatmap(train.isna())"
   ]
  },
  {
   "cell_type": "code",
   "execution_count": 9,
   "id": "c8687414",
   "metadata": {
    "execution": {
     "iopub.execute_input": "2023-03-27T13:43:41.429519Z",
     "iopub.status.busy": "2023-03-27T13:43:41.428255Z",
     "iopub.status.idle": "2023-03-27T13:43:41.437956Z",
     "shell.execute_reply": "2023-03-27T13:43:41.436660Z"
    },
    "papermill": {
     "duration": 0.030643,
     "end_time": "2023-03-27T13:43:41.440508",
     "exception": false,
     "start_time": "2023-03-27T13:43:41.409865",
     "status": "completed"
    },
    "tags": []
   },
   "outputs": [
    {
     "name": "stdout",
     "output_type": "stream",
     "text": [
      "PassengerId    1.000000\n",
      "Survived       1.000000\n",
      "Pclass         1.000000\n",
      "Name           1.000000\n",
      "Sex            1.000000\n",
      "Age            0.801347\n",
      "SibSp          1.000000\n",
      "Parch          1.000000\n",
      "Ticket         1.000000\n",
      "Fare           1.000000\n",
      "Cabin          0.228956\n",
      "Embarked       0.997755\n",
      "dtype: float64\n"
     ]
    }
   ],
   "source": [
    "# Calculer le taux de remplissage. Pas beaucoup d'info sur les cabines, seulement une partie sur l'age\n",
    "fill_rate = train.notnull().mean()\n",
    "\n",
    "print(fill_rate)"
   ]
  },
  {
   "cell_type": "markdown",
   "id": "56f4632b",
   "metadata": {
    "papermill": {
     "duration": 0.016717,
     "end_time": "2023-03-27T13:43:41.474498",
     "exception": false,
     "start_time": "2023-03-27T13:43:41.457781",
     "status": "completed"
    },
    "tags": []
   },
   "source": [
    "# Partie 2 : Feature engineering"
   ]
  },
  {
   "cell_type": "code",
   "execution_count": 10,
   "id": "230e442a",
   "metadata": {
    "execution": {
     "iopub.execute_input": "2023-03-27T13:43:41.511504Z",
     "iopub.status.busy": "2023-03-27T13:43:41.511065Z",
     "iopub.status.idle": "2023-03-27T13:43:41.527239Z",
     "shell.execute_reply": "2023-03-27T13:43:41.526328Z"
    },
    "papermill": {
     "duration": 0.037684,
     "end_time": "2023-03-27T13:43:41.529417",
     "exception": false,
     "start_time": "2023-03-27T13:43:41.491733",
     "status": "completed"
    },
    "tags": []
   },
   "outputs": [
    {
     "data": {
      "text/html": [
       "<div>\n",
       "<style scoped>\n",
       "    .dataframe tbody tr th:only-of-type {\n",
       "        vertical-align: middle;\n",
       "    }\n",
       "\n",
       "    .dataframe tbody tr th {\n",
       "        vertical-align: top;\n",
       "    }\n",
       "\n",
       "    .dataframe thead th {\n",
       "        text-align: right;\n",
       "    }\n",
       "</style>\n",
       "<table border=\"1\" class=\"dataframe\">\n",
       "  <thead>\n",
       "    <tr style=\"text-align: right;\">\n",
       "      <th></th>\n",
       "      <th>PassengerId</th>\n",
       "      <th>Name</th>\n",
       "      <th>Sex</th>\n",
       "      <th>Age</th>\n",
       "      <th>Fare</th>\n",
       "      <th>Embarked</th>\n",
       "      <th>Pclass</th>\n",
       "      <th>Survived</th>\n",
       "    </tr>\n",
       "  </thead>\n",
       "  <tbody>\n",
       "    <tr>\n",
       "      <th>0</th>\n",
       "      <td>1</td>\n",
       "      <td>Braund, Mr. Owen Harris</td>\n",
       "      <td>male</td>\n",
       "      <td>22.0</td>\n",
       "      <td>7.2500</td>\n",
       "      <td>S</td>\n",
       "      <td>3</td>\n",
       "      <td>0</td>\n",
       "    </tr>\n",
       "    <tr>\n",
       "      <th>1</th>\n",
       "      <td>2</td>\n",
       "      <td>Cumings, Mrs. John Bradley (Florence Briggs Th...</td>\n",
       "      <td>female</td>\n",
       "      <td>38.0</td>\n",
       "      <td>71.2833</td>\n",
       "      <td>C</td>\n",
       "      <td>1</td>\n",
       "      <td>1</td>\n",
       "    </tr>\n",
       "    <tr>\n",
       "      <th>2</th>\n",
       "      <td>3</td>\n",
       "      <td>Heikkinen, Miss. Laina</td>\n",
       "      <td>female</td>\n",
       "      <td>26.0</td>\n",
       "      <td>7.9250</td>\n",
       "      <td>S</td>\n",
       "      <td>3</td>\n",
       "      <td>1</td>\n",
       "    </tr>\n",
       "    <tr>\n",
       "      <th>3</th>\n",
       "      <td>4</td>\n",
       "      <td>Futrelle, Mrs. Jacques Heath (Lily May Peel)</td>\n",
       "      <td>female</td>\n",
       "      <td>35.0</td>\n",
       "      <td>53.1000</td>\n",
       "      <td>S</td>\n",
       "      <td>1</td>\n",
       "      <td>1</td>\n",
       "    </tr>\n",
       "    <tr>\n",
       "      <th>4</th>\n",
       "      <td>5</td>\n",
       "      <td>Allen, Mr. William Henry</td>\n",
       "      <td>male</td>\n",
       "      <td>35.0</td>\n",
       "      <td>8.0500</td>\n",
       "      <td>S</td>\n",
       "      <td>3</td>\n",
       "      <td>0</td>\n",
       "    </tr>\n",
       "  </tbody>\n",
       "</table>\n",
       "</div>"
      ],
      "text/plain": [
       "   PassengerId                                               Name     Sex  \\\n",
       "0            1                            Braund, Mr. Owen Harris    male   \n",
       "1            2  Cumings, Mrs. John Bradley (Florence Briggs Th...  female   \n",
       "2            3                             Heikkinen, Miss. Laina  female   \n",
       "3            4       Futrelle, Mrs. Jacques Heath (Lily May Peel)  female   \n",
       "4            5                           Allen, Mr. William Henry    male   \n",
       "\n",
       "    Age     Fare Embarked  Pclass  Survived  \n",
       "0  22.0   7.2500        S       3         0  \n",
       "1  38.0  71.2833        C       1         1  \n",
       "2  26.0   7.9250        S       3         1  \n",
       "3  35.0  53.1000        S       1         1  \n",
       "4  35.0   8.0500        S       3         0  "
      ]
     },
     "execution_count": 10,
     "metadata": {},
     "output_type": "execute_result"
    }
   ],
   "source": [
    "# Sélectionner les features principales pour l'analyse\n",
    "features = train[[\"PassengerId\",\"Name\", \"Sex\", \"Age\", \\\n",
    "                  \"Fare\" ,\"Embarked\", \"Pclass\", \"Survived\"]]\n",
    "\n",
    "# Imprimer un apercu tableau\n",
    "features.head()\n"
   ]
  },
  {
   "cell_type": "markdown",
   "id": "0908a9f9",
   "metadata": {
    "papermill": {
     "duration": 0.016988,
     "end_time": "2023-03-27T13:43:41.563796",
     "exception": false,
     "start_time": "2023-03-27T13:43:41.546808",
     "status": "completed"
    },
    "tags": []
   },
   "source": [
    "# Connaitre le nombres de survivants et de décés"
   ]
  },
  {
   "cell_type": "code",
   "execution_count": 11,
   "id": "f60fa486",
   "metadata": {
    "execution": {
     "iopub.execute_input": "2023-03-27T13:43:41.601229Z",
     "iopub.status.busy": "2023-03-27T13:43:41.600485Z",
     "iopub.status.idle": "2023-03-27T13:43:41.607902Z",
     "shell.execute_reply": "2023-03-27T13:43:41.606497Z"
    },
    "papermill": {
     "duration": 0.029982,
     "end_time": "2023-03-27T13:43:41.611020",
     "exception": false,
     "start_time": "2023-03-27T13:43:41.581038",
     "status": "completed"
    },
    "tags": []
   },
   "outputs": [
    {
     "name": "stdout",
     "output_type": "stream",
     "text": [
      "0    549\n",
      "1    342\n",
      "Name: Survived, dtype: int64\n"
     ]
    }
   ],
   "source": [
    "#Connaitre le nombres de survivants et de décés\n",
    "survived_counts = train[\"Survived\"].value_counts()\n",
    "print(survived_counts)"
   ]
  },
  {
   "cell_type": "markdown",
   "id": "0f45cb40",
   "metadata": {
    "papermill": {
     "duration": 0.017465,
     "end_time": "2023-03-27T13:43:41.646869",
     "exception": false,
     "start_time": "2023-03-27T13:43:41.629404",
     "status": "completed"
    },
    "tags": []
   },
   "source": [
    "Il y a donc **549 décés** et **342 survivants**\n",
    "Le taux de décés est donc de **61.62%** , le taux de survie de **38.38%**"
   ]
  },
  {
   "cell_type": "markdown",
   "id": "e79e4e6a",
   "metadata": {
    "papermill": {
     "duration": 0.01718,
     "end_time": "2023-03-27T13:43:41.681356",
     "exception": false,
     "start_time": "2023-03-27T13:43:41.664176",
     "status": "completed"
    },
    "tags": []
   },
   "source": [
    "**Countplot de décés vs survies**"
   ]
  },
  {
   "cell_type": "code",
   "execution_count": 12,
   "id": "d8451cef",
   "metadata": {
    "execution": {
     "iopub.execute_input": "2023-03-27T13:43:41.717911Z",
     "iopub.status.busy": "2023-03-27T13:43:41.717470Z",
     "iopub.status.idle": "2023-03-27T13:43:41.916157Z",
     "shell.execute_reply": "2023-03-27T13:43:41.915111Z"
    },
    "papermill": {
     "duration": 0.219875,
     "end_time": "2023-03-27T13:43:41.918602",
     "exception": false,
     "start_time": "2023-03-27T13:43:41.698727",
     "status": "completed"
    },
    "tags": []
   },
   "outputs": [
    {
     "data": {
      "text/plain": [
       "<AxesSubplot:xlabel='Survived', ylabel='count'>"
      ]
     },
     "execution_count": 12,
     "metadata": {},
     "output_type": "execute_result"
    },
    {
     "data": {
      "image/png": "[encoded data removed]",
      "text/plain": [
       "<Figure size 640x480 with 1 Axes>"
      ]
     },
     "metadata": {},
     "output_type": "display_data"
    }
   ],
   "source": [
    "#Countplot de décés vs survies\n",
    "sns.countplot(x='Survived',data=train)"
   ]
  },
  {
   "cell_type": "code",
   "execution_count": 13,
   "id": "ffdd3d9b",
   "metadata": {
    "execution": {
     "iopub.execute_input": "2023-03-27T13:43:41.956552Z",
     "iopub.status.busy": "2023-03-27T13:43:41.955634Z",
     "iopub.status.idle": "2023-03-27T13:43:42.927705Z",
     "shell.execute_reply": "2023-03-27T13:43:42.926510Z"
    },
    "papermill": {
     "duration": 0.993978,
     "end_time": "2023-03-27T13:43:42.930421",
     "exception": false,
     "start_time": "2023-03-27T13:43:41.936443",
     "status": "completed"
    },
    "tags": []
   },
   "outputs": [
    {
     "data": {
      "text/plain": [
       "array([[<AxesSubplot:title={'center':'PassengerId'}>,\n",
       "        <AxesSubplot:title={'center':'Survived'}>,\n",
       "        <AxesSubplot:title={'center':'Pclass'}>],\n",
       "       [<AxesSubplot:title={'center':'Age'}>,\n",
       "        <AxesSubplot:title={'center':'SibSp'}>,\n",
       "        <AxesSubplot:title={'center':'Parch'}>],\n",
       "       [<AxesSubplot:title={'center':'Fare'}>, <AxesSubplot:>,\n",
       "        <AxesSubplot:>]], dtype=object)"
      ]
     },
     "execution_count": 13,
     "metadata": {},
     "output_type": "execute_result"
    },
    {
     "data": {
      "image/png": "[encoded data removed]",
      "text/plain": [
       "<Figure size 640x480 with 9 Axes>"
      ]
     },
     "metadata": {},
     "output_type": "display_data"
    }
   ],
   "source": [
    "#Histogramme avant nettoyage\n",
    "train.hist( sharex= True , sharey=True)"
   ]
  },
  {
   "cell_type": "markdown",
   "id": "00758299",
   "metadata": {
    "papermill": {
     "duration": 0.017685,
     "end_time": "2023-03-27T13:43:42.966648",
     "exception": false,
     "start_time": "2023-03-27T13:43:42.948963",
     "status": "completed"
    },
    "tags": []
   },
   "source": [
    "# Remplacer les valeurs manquantes"
   ]
  },
  {
   "cell_type": "markdown",
   "id": "d09cd25f",
   "metadata": {
    "papermill": {
     "duration": 0.017814,
     "end_time": "2023-03-27T13:43:43.002587",
     "exception": false,
     "start_time": "2023-03-27T13:43:42.984773",
     "status": "completed"
    },
    "tags": []
   },
   "source": [
    "Méthode KNN"
   ]
  },
  {
   "cell_type": "code",
   "execution_count": 14,
   "id": "7973fc72",
   "metadata": {
    "execution": {
     "iopub.execute_input": "2023-03-27T13:43:43.041894Z",
     "iopub.status.busy": "2023-03-27T13:43:43.040642Z",
     "iopub.status.idle": "2023-03-27T13:43:43.501021Z",
     "shell.execute_reply": "2023-03-27T13:43:43.499287Z"
    },
    "papermill": {
     "duration": 0.487985,
     "end_time": "2023-03-27T13:43:43.508725",
     "exception": false,
     "start_time": "2023-03-27T13:43:43.020740",
     "status": "completed"
    },
    "tags": []
   },
   "outputs": [
    {
     "name": "stdout",
     "output_type": "stream",
     "text": [
      "   PassengerId  Survived  Pclass  \\\n",
      "0            1         0     3.0   \n",
      "1            2         1     1.0   \n",
      "2            3         1     3.0   \n",
      "3            4         1     1.0   \n",
      "4            5         0     3.0   \n",
      "\n",
      "                                                Name     Sex   Age  SibSp  \\\n",
      "0                            Braund, Mr. Owen Harris    male  22.0    1.0   \n",
      "1  Cumings, Mrs. John Bradley (Florence Briggs Th...  female  38.0    1.0   \n",
      "2                             Heikkinen, Miss. Laina  female  26.0    0.0   \n",
      "3       Futrelle, Mrs. Jacques Heath (Lily May Peel)  female  35.0    1.0   \n",
      "4                           Allen, Mr. William Henry    male  35.0    0.0   \n",
      "\n",
      "   Parch            Ticket     Fare Cabin Embarked  \n",
      "0    0.0         A/5 21171   7.2500   NaN        S  \n",
      "1    0.0          PC 17599  71.2833   C85        C  \n",
      "2    0.0  STON/O2. 3101282   7.9250   NaN        S  \n",
      "3    0.0            113803  53.1000  C123        S  \n",
      "4    0.0            373450   8.0500   NaN        S  \n"
     ]
    }
   ],
   "source": [
    "#KNN\n",
    "from sklearn.impute import KNNImputer\n",
    "\n",
    "# Charger les données d'entraînement\n",
    "train = pd.read_csv(\"train.csv\")\n",
    "\n",
    "# Sélectionner les colonnes pertinentes pour l'imputation des âges manquants\n",
    "age_cols = [\"Age\", \"Pclass\", \"SibSp\", \"Parch\", \"Fare\"]\n",
    "\n",
    "# Créer un imputeur K-NN avec 5 voisins\n",
    "imputer = KNNImputer(n_neighbors=5)\n",
    "\n",
    "# Imputer les âges manquants\n",
    "train[age_cols] = imputer.fit_transform(train[age_cols])\n",
    "\n",
    "# Afficher les premières lignes des données d'entraînement imputées\n",
    "print(train.head())\n"
   ]
  },
  {
   "cell_type": "code",
   "execution_count": 15,
   "id": "e37c6695",
   "metadata": {
    "execution": {
     "iopub.execute_input": "2023-03-27T13:43:43.599263Z",
     "iopub.status.busy": "2023-03-27T13:43:43.598829Z",
     "iopub.status.idle": "2023-03-27T13:43:44.668298Z",
     "shell.execute_reply": "2023-03-27T13:43:44.667123Z"
    },
    "papermill": {
     "duration": 1.113773,
     "end_time": "2023-03-27T13:43:44.670999",
     "exception": false,
     "start_time": "2023-03-27T13:43:43.557226",
     "status": "completed"
    },
    "tags": []
   },
   "outputs": [
    {
     "data": {
      "text/plain": [
       "array([[<AxesSubplot:title={'center':'PassengerId'}>,\n",
       "        <AxesSubplot:title={'center':'Survived'}>,\n",
       "        <AxesSubplot:title={'center':'Pclass'}>],\n",
       "       [<AxesSubplot:title={'center':'Age'}>,\n",
       "        <AxesSubplot:title={'center':'SibSp'}>,\n",
       "        <AxesSubplot:title={'center':'Parch'}>],\n",
       "       [<AxesSubplot:title={'center':'Fare'}>, <AxesSubplot:>,\n",
       "        <AxesSubplot:>]], dtype=object)"
      ]
     },
     "execution_count": 15,
     "metadata": {},
     "output_type": "execute_result"
    },
    {
     "data": {
      "image/png": "[encoded data removed]",
      "text/plain": [
       "<Figure size 640x480 with 9 Axes>"
      ]
     },
     "metadata": {},
     "output_type": "display_data"
    }
   ],
   "source": [
    "#Histogramme aprés nettoyage\n",
    "train.hist( sharex= True , sharey=True)"
   ]
  },
  {
   "cell_type": "markdown",
   "id": "3e13b0ab",
   "metadata": {
    "papermill": {
     "duration": 0.020847,
     "end_time": "2023-03-27T13:43:44.711238",
     "exception": false,
     "start_time": "2023-03-27T13:43:44.690391",
     "status": "completed"
    },
    "tags": []
   },
   "source": [
    "# Calcul du taux de survie par **Sex, Age, Tarif, Port d'embarquement et par classe**"
   ]
  },
  {
   "cell_type": "markdown",
   "id": "7549508a",
   "metadata": {
    "papermill": {
     "duration": 0.018486,
     "end_time": "2023-03-27T13:43:44.748876",
     "exception": false,
     "start_time": "2023-03-27T13:43:44.730390",
     "status": "completed"
    },
    "tags": []
   },
   "source": [
    "# Taux de Survie"
   ]
  },
  {
   "cell_type": "code",
   "execution_count": 16,
   "id": "9f3ca9e8",
   "metadata": {
    "execution": {
     "iopub.execute_input": "2023-03-27T13:43:44.789741Z",
     "iopub.status.busy": "2023-03-27T13:43:44.788475Z",
     "iopub.status.idle": "2023-03-27T13:43:44.824900Z",
     "shell.execute_reply": "2023-03-27T13:43:44.823821Z"
    },
    "papermill": {
     "duration": 0.059987,
     "end_time": "2023-03-27T13:43:44.827899",
     "exception": false,
     "start_time": "2023-03-27T13:43:44.767912",
     "status": "completed"
    },
    "tags": []
   },
   "outputs": [
    {
     "name": "stdout",
     "output_type": "stream",
     "text": [
      "Taux de survie par sexe :\n",
      " Sex\n",
      "female    0.742038\n",
      "male      0.188908\n",
      "Name: Survived, dtype: float64\n",
      "\n",
      "Taux de survie par âge :\n",
      " Age\n",
      "(0, 18]      0.493151\n",
      "(18, 25]     0.331492\n",
      "(25, 40]     0.371658\n",
      "(40, 60]     0.392857\n",
      "(60, 100]    0.227273\n",
      "Name: Survived, dtype: float64\n",
      "\n",
      "Taux de survie par tarif :\n",
      " Fare\n",
      "(0, 10]        0.205607\n",
      "(10, 25]       0.420814\n",
      "(25, 50]       0.419540\n",
      "(50, 100]      0.654206\n",
      "(100, 1000]    0.735849\n",
      "Name: Survived, dtype: float64\n",
      "\n",
      "Taux de survie par port d'embarquement :\n",
      " Embarked\n",
      "C    0.553571\n",
      "Q    0.389610\n",
      "S    0.336957\n",
      "Name: Survived, dtype: float64\n",
      "\n",
      "Taux de survie par classe :\n",
      " Pclass\n",
      "1.0    0.629630\n",
      "2.0    0.472826\n",
      "3.0    0.242363\n",
      "Name: Survived, dtype: float64\n"
     ]
    }
   ],
   "source": [
    "# regrouper les données par sexe et calculer les taux de survie\n",
    "sex_group = train.groupby([\"Sex\"])[\"Survived\"].mean()\n",
    "\n",
    "# regrouper les données par âge et calculer les taux de survie\n",
    "age_group = pd.cut(train[\"Age\"], [0, 18, 25, 40, 60, 100])\n",
    "age_group = train.groupby([age_group])[\"Survived\"].mean()\n",
    "\n",
    "# regrouper les données par tarif et calculer les taux de survie\n",
    "fare_group = pd.cut(train[\"Fare\"], [0, 10, 25, 50, 100, 1000])\n",
    "fare_group = train.groupby([fare_group])[\"Survived\"].mean()\n",
    "\n",
    "# regrouper les données par port d'embarquement et calculer les taux de survie\n",
    "embarked_group = train.groupby([\"Embarked\"])[\"Survived\"].mean()\n",
    "\n",
    "# regrouper les données par classe et calculer les taux de survie\n",
    "class_group = train.groupby([\"Pclass\"])[\"Survived\"].mean()\n",
    "\n",
    "print(\"Taux de survie par sexe :\\n\", sex_group)\n",
    "print(\"\\nTaux de survie par âge :\\n\", age_group)\n",
    "print(\"\\nTaux de survie par tarif :\\n\", fare_group)\n",
    "print(\"\\nTaux de survie par port d'embarquement :\\n\", embarked_group)\n",
    "print(\"\\nTaux de survie par classe :\\n\", class_group)\n"
   ]
  },
  {
   "cell_type": "markdown",
   "id": "817f179d",
   "metadata": {
    "papermill": {
     "duration": 0.018542,
     "end_time": "2023-03-27T13:43:44.865428",
     "exception": false,
     "start_time": "2023-03-27T13:43:44.846886",
     "status": "completed"
    },
    "tags": []
   },
   "source": [
    "# Faire histogramme avant et aprés knn"
   ]
  },
  {
   "cell_type": "markdown",
   "id": "17dbd467",
   "metadata": {
    "papermill": {
     "duration": 0.019201,
     "end_time": "2023-03-27T13:43:44.903446",
     "exception": false,
     "start_time": "2023-03-27T13:43:44.884245",
     "status": "completed"
    },
    "tags": []
   },
   "source": [
    "# Détails des taux de survies :\n",
    "**Taux de survie par sex :**\n",
    "1. Femmes : 74.2%\n",
    "1. Hommes: 18.8%\n",
    "\n",
    "**Taux de survie par âge :**\n",
    "* (0, 18]      49.31%\n",
    "* (18, 25]     33.14%\n",
    "* (25, 40]     37.16%\n",
    "* (40, 60]     39.28%\n",
    "* (60, 100]    22.72%\n",
    "\n",
    "\n",
    "**Taux de survie par tarif :**\n",
    "* (0, 10]        20.56%\n",
    "* (10, 25]       42.08%\n",
    "* (25, 50]       41.95%\n",
    "* (50, 100]      65.42%\n",
    "* (100, 1000]    73.58%\n",
    "\n",
    "**Taux de survie par port d'embarquement :**\n",
    "1. Cherbourg     55.35%\n",
    "1. Queenstown    38.96%\n",
    "1. Southampton   33.69%\n",
    "\n",
    "**Taux de survie par classe :**\n",
    "1. 1    62.96%\n",
    "1. 2    47.28%\n",
    "1. 3    24.23%\n"
   ]
  },
  {
   "cell_type": "markdown",
   "id": "6fd4e3e7",
   "metadata": {
    "papermill": {
     "duration": 0.01864,
     "end_time": "2023-03-27T13:43:44.940927",
     "exception": false,
     "start_time": "2023-03-27T13:43:44.922287",
     "status": "completed"
    },
    "tags": []
   },
   "source": [
    "** Calculer la matrice de corrélation entre deux variables ( Embarked & Fare) dans un ensemble de données. **"
   ]
  },
  {
   "cell_type": "code",
   "execution_count": 17,
   "id": "16ade3e9",
   "metadata": {
    "execution": {
     "iopub.execute_input": "2023-03-27T13:43:44.980921Z",
     "iopub.status.busy": "2023-03-27T13:43:44.980040Z",
     "iopub.status.idle": "2023-03-27T13:43:44.988536Z",
     "shell.execute_reply": "2023-03-27T13:43:44.987717Z"
    },
    "papermill": {
     "duration": 0.030756,
     "end_time": "2023-03-27T13:43:44.990615",
     "exception": false,
     "start_time": "2023-03-27T13:43:44.959859",
     "status": "completed"
    },
    "tags": []
   },
   "outputs": [
    {
     "data": {
      "text/plain": [
       "array([[ 1.        , -0.22122624],\n",
       "       [-0.22122624,  1.        ]])"
      ]
     },
     "execution_count": 17,
     "metadata": {},
     "output_type": "execute_result"
    }
   ],
   "source": [
    "from sklearn.preprocessing import LabelEncoder\n",
    "# créer un encodeur de label\n",
    "le = LabelEncoder()\n",
    "\n",
    "# encoder la colonne \"Embarked\"\n",
    "train_embarked_encoded = le.fit_transform(train[\"Embarked\"])\n",
    "\n",
    "# utiliser np.corrcoef() avec les données encodées :calculer la matrice de corrélation entre les différentes variables d'un ensemble de données\n",
    "R2 = np.corrcoef(train_embarked_encoded, train[\"Fare\"])\n",
    "R2"
   ]
  },
  {
   "cell_type": "markdown",
   "id": "316ed73b",
   "metadata": {
    "papermill": {
     "duration": 0.018809,
     "end_time": "2023-03-27T13:43:45.028933",
     "exception": false,
     "start_time": "2023-03-27T13:43:45.010124",
     "status": "completed"
    },
    "tags": []
   },
   "source": [
    "# Partie 3 : Exploration"
   ]
  },
  {
   "cell_type": "markdown",
   "id": "cf9086f2",
   "metadata": {
    "papermill": {
     "duration": 0.018715,
     "end_time": "2023-03-27T13:43:45.066697",
     "exception": false,
     "start_time": "2023-03-27T13:43:45.047982",
     "status": "completed"
    },
    "tags": []
   },
   "source": [
    "# Analyse multivarié"
   ]
  },
  {
   "cell_type": "markdown",
   "id": "1f0baf42",
   "metadata": {
    "papermill": {
     "duration": 0.018711,
     "end_time": "2023-03-27T13:43:45.104703",
     "exception": false,
     "start_time": "2023-03-27T13:43:45.085992",
     "status": "completed"
    },
    "tags": []
   },
   "source": [
    "Definitions"
   ]
  },
  {
   "cell_type": "code",
   "execution_count": 18,
   "id": "acab8041",
   "metadata": {
    "execution": {
     "iopub.execute_input": "2023-03-27T13:43:45.145097Z",
     "iopub.status.busy": "2023-03-27T13:43:45.144291Z",
     "iopub.status.idle": "2023-03-27T13:43:45.153454Z",
     "shell.execute_reply": "2023-03-27T13:43:45.152046Z"
    },
    "papermill": {
     "duration": 0.032677,
     "end_time": "2023-03-27T13:43:45.156402",
     "exception": false,
     "start_time": "2023-03-27T13:43:45.123725",
     "status": "completed"
    },
    "tags": []
   },
   "outputs": [],
   "source": [
    "def correlation_ratio(categories, measurements):\n",
    "        fcat, _ = pd.factorize(categories)\n",
    "        cat_num = np.max(fcat)+1\n",
    "        y_avg_array = np.zeros(cat_num)\n",
    "        n_array = np.zeros(cat_num)\n",
    "        for i in range(0,cat_num):\n",
    "            cat_measures = measurements[np.argwhere(fcat == i).flatten()]\n",
    "            n_array[i] = len(cat_measures)\n",
    "            y_avg_array[i] = np.average(cat_measures)\n",
    "        y_total_avg = np.sum(np.multiply(y_avg_array,n_array))/np.sum(n_array)\n",
    "        numerator = np.sum(np.multiply(n_array,np.power(np.subtract(y_avg_array,y_total_avg),2)))\n",
    "        denominator = np.sum(np.power(np.subtract(measurements,y_total_avg),2))\n",
    "        if numerator == 0:\n",
    "            eta = 0.0\n",
    "        else:\n",
    "            eta = numerator/denominator\n",
    "        return eta"
   ]
  },
  {
   "cell_type": "code",
   "execution_count": 19,
   "id": "a1cdb8c7",
   "metadata": {
    "execution": {
     "iopub.execute_input": "2023-03-27T13:43:45.196908Z",
     "iopub.status.busy": "2023-03-27T13:43:45.196431Z",
     "iopub.status.idle": "2023-03-27T13:43:45.215218Z",
     "shell.execute_reply": "2023-03-27T13:43:45.213848Z"
    },
    "papermill": {
     "duration": 0.042295,
     "end_time": "2023-03-27T13:43:45.217893",
     "exception": false,
     "start_time": "2023-03-27T13:43:45.175598",
     "status": "completed"
    },
    "tags": []
   },
   "outputs": [],
   "source": [
    "#define the main functions\n",
    "def display_circles(pcs, n_comp, pca, axis_ranks, labels=None, label_rotation=0, lims=None):\n",
    "    for d1, d2 in axis_ranks: # On affiche les 3 premiers plans factoriels, donc les 6 premières composantes\n",
    "        if d2 < n_comp:\n",
    "\n",
    "            # initialisation de la figure\n",
    "            fig, ax = plt.subplots(figsize=(7,6))\n",
    "\n",
    "            # détermination des limites du graphique\n",
    "            if lims is not None :\n",
    "                xmin, xmax, ymin, ymax = lims\n",
    "            elif pcs.shape[1] < 30 :\n",
    "                xmin, xmax, ymin, ymax = -1, 1, -1, 1\n",
    "            else :\n",
    "                xmin, xmax, ymin, ymax = min(pcs[d1,:]), max(pcs[d1,:]), min(pcs[d2,:]), max(pcs[d2,:])\n",
    "\n",
    "            # affichage des flèches\n",
    "            # s'il y a plus de 30 flèches, on n'affiche pas le triangle à leur extrémité\n",
    "            if pcs.shape[1] < 30 :\n",
    "                plt.quiver(np.zeros(pcs.shape[1]), np.zeros(pcs.shape[1]),\n",
    "                   pcs[d1,:], pcs[d2,:], \n",
    "                   angles='xy', scale_units='xy', scale=1, color=\"grey\")\n",
    "                # (voir la doc : https://matplotlib.org/api/_as_gen/matplotlib.pyplot.quiver.html)\n",
    "            else:\n",
    "                lines = [[[0,0],[x,y]] for x,y in pcs[[d1,d2]].T]\n",
    "                ax.add_collection(LineCollection(lines, axes=ax, alpha=.1, color='black'))\n",
    "            \n",
    "            # affichage des noms des variables  \n",
    "            if labels is not None:  \n",
    "                for i,(x, y) in enumerate(pcs[[d1,d2]].T):\n",
    "                    if x >= xmin and x <= xmax and y >= ymin and y <= ymax :\n",
    "                        plt.text(x, y, labels[i], fontsize='14', ha='center', va='center', rotation=label_rotation, color=\"blue\", alpha=0.5)\n",
    "            \n",
    "            # affichage du cercle\n",
    "            circle = plt.Circle((0,0), 1, facecolor='none', edgecolor='b')\n",
    "            plt.gca().add_artist(circle)\n",
    "\n",
    "            # définition des limites du graphique\n",
    "            plt.xlim(xmin, xmax)\n",
    "            plt.ylim(ymin, ymax)\n",
    "        \n",
    "            # affichage des lignes horizontales et verticales\n",
    "            plt.plot([-1, 1], [0, 0], color='grey', ls='--')\n",
    "            plt.plot([0, 0], [-1, 1], color='grey', ls='--')\n",
    "\n",
    "            # nom des axes, avec le pourcentage d'inertie expliqué\n",
    "            plt.xlabel('F{} ({}%)'.format(d1+1, round(100*pca.explained_variance_ratio_[d1],1)))\n",
    "            plt.ylabel('F{} ({}%)'.format(d2+1, round(100*pca.explained_variance_ratio_[d2],1)))\n",
    "\n",
    "            plt.title(\"Cercle des corrélations (F{} et F{})\".format(d1+1, d2+1))\n",
    "            plt.show(block=False)\n",
    "            "
   ]
  },
  {
   "cell_type": "code",
   "execution_count": 20,
   "id": "7d29b01c",
   "metadata": {
    "execution": {
     "iopub.execute_input": "2023-03-27T13:43:45.258012Z",
     "iopub.status.busy": "2023-03-27T13:43:45.257596Z",
     "iopub.status.idle": "2023-03-27T13:43:45.272782Z",
     "shell.execute_reply": "2023-03-27T13:43:45.271495Z"
    },
    "papermill": {
     "duration": 0.03822,
     "end_time": "2023-03-27T13:43:45.275253",
     "exception": false,
     "start_time": "2023-03-27T13:43:45.237033",
     "status": "completed"
    },
    "tags": []
   },
   "outputs": [],
   "source": [
    "def display_factorial_planes(X_projected, n_comp, pca, axis_ranks, labels=None, alpha=1, illustrative_var=None):\n",
    "    for d1,d2 in axis_ranks:\n",
    "        if d2 < n_comp:\n",
    " \n",
    "            # initialisation de la figure       \n",
    "            fig = plt.figure(figsize=(7,6))\n",
    "        \n",
    "            # affichage des points\n",
    "            if illustrative_var is None:\n",
    "                plt.scatter(X_projected[:, d1], X_projected[:, d2], alpha=alpha)\n",
    "            else:\n",
    "                illustrative_var = np.array(illustrative_var)\n",
    "                for value in np.unique(illustrative_var):\n",
    "                    selected = np.where(illustrative_var == value)\n",
    "                    plt.scatter(X_projected[selected, d1], X_projected[selected, d2], alpha=alpha, label=value)\n",
    "                plt.legend()\n",
    "\n",
    "            # affichage des labels des points\n",
    "            if labels is not None:\n",
    "                for i,(x,y) in enumerate(X_projected[:,[d1,d2]]):\n",
    "                    plt.text(x, y, labels[i],\n",
    "                              fontsize='14', ha='center',va='center') \n",
    "                \n",
    "            # détermination des limites du graphique\n",
    "            boundary = np.max(np.abs(X_projected[:, [d1,d2]])) * 1.1\n",
    "            plt.xlim([-boundary,boundary])\n",
    "            plt.ylim([-boundary,boundary])\n",
    "        \n",
    "            # affichage des lignes horizontales et verticales\n",
    "            plt.plot([-100, 100], [0, 0], color='grey', ls='--')\n",
    "            plt.plot([0, 0], [-100, 100], color='grey', ls='--')\n",
    "\n",
    "            # nom des axes, avec le pourcentage d'inertie expliqué\n",
    "            plt.xlabel('F{} ({}%)'.format(d1+1, round(100*pca.explained_variance_ratio_[d1],1)))\n",
    "            plt.ylabel('F{} ({}%)'.format(d2+1, round(100*pca.explained_variance_ratio_[d2],1)))\n",
    "\n",
    "            plt.title(\"Projection des individus (sur F{} et F{})\".format(d1+1, d2+1))\n",
    "            plt.show(block=False)\n"
   ]
  },
  {
   "cell_type": "code",
   "execution_count": 21,
   "id": "3973d270",
   "metadata": {
    "execution": {
     "iopub.execute_input": "2023-03-27T13:43:45.316129Z",
     "iopub.status.busy": "2023-03-27T13:43:45.315726Z",
     "iopub.status.idle": "2023-03-27T13:43:45.323041Z",
     "shell.execute_reply": "2023-03-27T13:43:45.321762Z"
    },
    "papermill": {
     "duration": 0.031275,
     "end_time": "2023-03-27T13:43:45.325501",
     "exception": false,
     "start_time": "2023-03-27T13:43:45.294226",
     "status": "completed"
    },
    "tags": []
   },
   "outputs": [],
   "source": [
    "def display_scree_plot(pca):\n",
    "    scree = pca.explained_variance_ratio_*100\n",
    "    plt.bar(np.arange(len(scree))+1, scree)\n",
    "    plt.plot(np.arange(len(scree))+1, scree.cumsum(),c=\"red\",marker='o')\n",
    "    plt.xlabel(\"rang de l'axe d'inertie\")\n",
    "    plt.ylabel(\"pourcentage d'inertie\")\n",
    "    plt.title(\"Eboulis des valeurs propres\")\n",
    "    plt.show(block=False)"
   ]
  },
  {
   "cell_type": "code",
   "execution_count": 22,
   "id": "8ef3500c",
   "metadata": {
    "execution": {
     "iopub.execute_input": "2023-03-27T13:43:45.365671Z",
     "iopub.status.busy": "2023-03-27T13:43:45.365219Z",
     "iopub.status.idle": "2023-03-27T13:43:45.375134Z",
     "shell.execute_reply": "2023-03-27T13:43:45.373608Z"
    },
    "papermill": {
     "duration": 0.033123,
     "end_time": "2023-03-27T13:43:45.377718",
     "exception": false,
     "start_time": "2023-03-27T13:43:45.344595",
     "status": "completed"
    },
    "tags": []
   },
   "outputs": [],
   "source": [
    "def correlation_ratio(categories, measurements):\n",
    "        fcat, _ = pd.factorize(categories)\n",
    "        cat_num = np.max(fcat)+1\n",
    "        y_avg_array = np.zeros(cat_num)\n",
    "        n_array = np.zeros(cat_num)\n",
    "        for i in range(0,cat_num):\n",
    "            cat_measures = measurements[np.argwhere(fcat == i).flatten()]\n",
    "            n_array[i] = len(cat_measures)\n",
    "            y_avg_array[i] = np.average(cat_measures)\n",
    "        y_total_avg = np.sum(np.multiply(y_avg_array,n_array))/np.sum(n_array)\n",
    "        numerator = np.sum(np.multiply(n_array,np.power(np.subtract(y_avg_array,y_total_avg),2)))\n",
    "        denominator = np.sum(np.power(np.subtract(measurements,y_total_avg),2))\n",
    "        if numerator == 0:\n",
    "            eta = 0.0\n",
    "        else:\n",
    "            eta = numerator/denominator\n",
    "        return eta"
   ]
  },
  {
   "cell_type": "markdown",
   "id": "443d95d2",
   "metadata": {
    "papermill": {
     "duration": 0.018783,
     "end_time": "2023-03-27T13:43:45.415642",
     "exception": false,
     "start_time": "2023-03-27T13:43:45.396859",
     "status": "completed"
    },
    "tags": []
   },
   "source": [
    "# Analyse ANOVA : Rule of Thumb Eta Squared"
   ]
  },
  {
   "cell_type": "code",
   "execution_count": 23,
   "id": "dc1e719f",
   "metadata": {
    "execution": {
     "iopub.execute_input": "2023-03-27T13:43:45.456696Z",
     "iopub.status.busy": "2023-03-27T13:43:45.455835Z",
     "iopub.status.idle": "2023-03-27T13:43:45.466875Z",
     "shell.execute_reply": "2023-03-27T13:43:45.465658Z"
    },
    "papermill": {
     "duration": 0.034701,
     "end_time": "2023-03-27T13:43:45.469437",
     "exception": false,
     "start_time": "2023-03-27T13:43:45.434736",
     "status": "completed"
    },
    "tags": []
   },
   "outputs": [
    {
     "data": {
      "text/plain": [
       "0.2952307228626888"
      ]
     },
     "execution_count": 23,
     "metadata": {},
     "output_type": "execute_result"
    }
   ],
   "source": [
    "# Rule of thumb , Niveau de corrélation entre Survived et Sex ( Fort)\n",
    "correlation_ratio(features[\"Sex\"], features[\"Survived\"])\n"
   ]
  },
  {
   "cell_type": "code",
   "execution_count": 24,
   "id": "62e2e6d9",
   "metadata": {
    "execution": {
     "iopub.execute_input": "2023-03-27T13:43:45.510417Z",
     "iopub.status.busy": "2023-03-27T13:43:45.509912Z",
     "iopub.status.idle": "2023-03-27T13:43:45.571995Z",
     "shell.execute_reply": "2023-03-27T13:43:45.570799Z"
    },
    "papermill": {
     "duration": 0.085417,
     "end_time": "2023-03-27T13:43:45.574669",
     "exception": false,
     "start_time": "2023-03-27T13:43:45.489252",
     "status": "completed"
    },
    "tags": []
   },
   "outputs": [
    {
     "data": {
      "text/plain": [
       "0.11896439664806789"
      ]
     },
     "execution_count": 24,
     "metadata": {},
     "output_type": "execute_result"
    }
   ],
   "source": [
    "#Corrélation Moyenne\n",
    "\n",
    "correlation_ratio(features[\"Age\"], features[\"Survived\"])"
   ]
  },
  {
   "cell_type": "code",
   "execution_count": 25,
   "id": "71abb9cb",
   "metadata": {
    "execution": {
     "iopub.execute_input": "2023-03-27T13:43:45.615564Z",
     "iopub.status.busy": "2023-03-27T13:43:45.615122Z",
     "iopub.status.idle": "2023-03-27T13:43:45.725225Z",
     "shell.execute_reply": "2023-03-27T13:43:45.724345Z"
    },
    "papermill": {
     "duration": 0.133523,
     "end_time": "2023-03-27T13:43:45.727579",
     "exception": false,
     "start_time": "2023-03-27T13:43:45.594056",
     "status": "completed"
    },
    "tags": []
   },
   "outputs": [
    {
     "data": {
      "text/plain": [
       "0.4778994170360389"
      ]
     },
     "execution_count": 25,
     "metadata": {},
     "output_type": "execute_result"
    }
   ],
   "source": [
    "#Corrélation forte\n",
    "correlation_ratio(features[\"Fare\"], features[\"Survived\"])\n"
   ]
  },
  {
   "cell_type": "code",
   "execution_count": 26,
   "id": "3dbb2a40",
   "metadata": {
    "execution": {
     "iopub.execute_input": "2023-03-27T13:43:45.768865Z",
     "iopub.status.busy": "2023-03-27T13:43:45.768465Z",
     "iopub.status.idle": "2023-03-27T13:43:45.778155Z",
     "shell.execute_reply": "2023-03-27T13:43:45.777334Z"
    },
    "papermill": {
     "duration": 0.033431,
     "end_time": "2023-03-27T13:43:45.780609",
     "exception": false,
     "start_time": "2023-03-27T13:43:45.747178",
     "status": "completed"
    },
    "tags": []
   },
   "outputs": [
    {
     "data": {
      "text/plain": [
       "0.029688720737019607"
      ]
     },
     "execution_count": 26,
     "metadata": {},
     "output_type": "execute_result"
    }
   ],
   "source": [
    "#Corrélation faible\n",
    "correlation_ratio(features[\"Embarked\"], features[\"Survived\"])\n"
   ]
  },
  {
   "cell_type": "code",
   "execution_count": 27,
   "id": "f3b1934f",
   "metadata": {
    "execution": {
     "iopub.execute_input": "2023-03-27T13:43:45.822509Z",
     "iopub.status.busy": "2023-03-27T13:43:45.821566Z",
     "iopub.status.idle": "2023-03-27T13:43:45.832485Z",
     "shell.execute_reply": "2023-03-27T13:43:45.831439Z"
    },
    "papermill": {
     "duration": 0.034302,
     "end_time": "2023-03-27T13:43:45.834758",
     "exception": false,
     "start_time": "2023-03-27T13:43:45.800456",
     "status": "completed"
    },
    "tags": []
   },
   "outputs": [
    {
     "data": {
      "text/plain": [
       "0.11547585719075261"
      ]
     },
     "execution_count": 27,
     "metadata": {},
     "output_type": "execute_result"
    }
   ],
   "source": [
    "#Corrélation Moyenne\n",
    "correlation_ratio(features[\"Pclass\"], features[\"Survived\"])\n"
   ]
  },
  {
   "cell_type": "markdown",
   "id": "215b7361",
   "metadata": {
    "papermill": {
     "duration": 0.019179,
     "end_time": "2023-03-27T13:43:45.873568",
     "exception": false,
     "start_time": "2023-03-27T13:43:45.854389",
     "status": "completed"
    },
    "tags": []
   },
   "source": [
    "# PCA et Cercle de corrélation"
   ]
  },
  {
   "cell_type": "code",
   "execution_count": 28,
   "id": "a59078f5",
   "metadata": {
    "execution": {
     "iopub.execute_input": "2023-03-27T13:43:45.914700Z",
     "iopub.status.busy": "2023-03-27T13:43:45.914229Z",
     "iopub.status.idle": "2023-03-27T13:43:46.248439Z",
     "shell.execute_reply": "2023-03-27T13:43:46.247452Z"
    },
    "papermill": {
     "duration": 0.358067,
     "end_time": "2023-03-27T13:43:46.251211",
     "exception": false,
     "start_time": "2023-03-27T13:43:45.893144",
     "status": "completed"
    },
    "tags": []
   },
   "outputs": [
    {
     "data": {
      "image/png": "[encoded data removed]",
      "text/plain": [
       "<Figure size 800x800 with 1 Axes>"
      ]
     },
     "metadata": {},
     "output_type": "display_data"
    }
   ],
   "source": [
    "data = train\n",
    "# Importer les bibliothèques nécessaires\n",
    "import pandas as pd\n",
    "import numpy as np\n",
    "from sklearn.decomposition import PCA\n",
    "from sklearn.preprocessing import StandardScaler\n",
    "import matplotlib.pyplot as plt\n",
    "\n",
    "\n",
    "# Sélectionner les variables à inclure dans l'analyse\n",
    "variables = ['Age', 'Pclass', 'SibSp', 'Parch', 'Fare']\n",
    "\n",
    "# Extraire les données pour les variables sélectionnées\n",
    "X = data[variables].values\n",
    "\n",
    "# Standardiser les données\n",
    "scaler = StandardScaler()\n",
    "X_scaled = scaler.fit_transform(X)\n",
    "\n",
    "# Créer un objet PCA avec 2 composantes principales\n",
    "pca = PCA(n_components=2)\n",
    "\n",
    "# Appliquer l'analyse en composantes principales aux données standardisées\n",
    "principal_components = pca.fit_transform(X_scaled)\n",
    "\n",
    "# Créer un DataFrame pour les composantes principales\n",
    "components_df = pd.DataFrame(data=principal_components, columns=['PC1', 'PC2'])\n",
    "\n",
    "# Ajouter les données de la variable cible (Survived) au DataFrame\n",
    "components_df['Survived'] = data['Survived']\n",
    "\n",
    "# Tracer le cercle de corrélation\n",
    "fig = plt.figure(figsize=(8, 8))\n",
    "ax = fig.add_subplot(1, 1, 1)\n",
    "ax.set_xlim(-1, 1)\n",
    "ax.set_ylim(-1, 1)\n",
    "ax.axhline(0, color='gray', lw=1)\n",
    "ax.axvline(0, color='gray', lw=1)\n",
    "ax.set_xlabel('PC1')\n",
    "ax.set_ylabel('PC2')\n",
    "for i, variable in enumerate(variables):\n",
    "    ax.annotate(variable, (pca.components_[0, i], pca.components_[1, i]))\n",
    "    ax.arrow(0, 0, pca.components_[0, i], pca.components_[1, i], color='r', width=0.01, head_width=0.05)\n",
    "plt.show()\n"
   ]
  },
  {
   "cell_type": "markdown",
   "id": "397d1ed8",
   "metadata": {
    "papermill": {
     "duration": 0.020285,
     "end_time": "2023-03-27T13:43:46.292507",
     "exception": false,
     "start_time": "2023-03-27T13:43:46.272222",
     "status": "completed"
    },
    "tags": []
   },
   "source": [
    "# A modifier voir avec GREG pk ca n'a pas prit variables = ['Age', 'Pclass', 'SibSp', 'Parch', 'Fare']\n",
    "1. La composante F1 est CO linéaire et expliquée en grande partie par Fat puis saturated fat. La corrélation est forte. Donc les features FAT et Saturated FAT peuvent être utilisées pour prédire F1.\n",
    "1. La composante F2 est Co linéaire et expliquée en grande partie par carbohydrates puis sugars. La corrélation est forte. Donc les features carbohydrates et Sugars peuvent être utilisées pour prédire F2.\n",
    "1. F1+F2 expliquent (63.4+18.5%) soit 81.9% de la variance du modele Donc la plupart de la variance dans les données peut être expliquée par ces deux facteurs ( F1+F2) combinés.\n",
    "1. Les variables \"f1\" et \"f2\" expliquent ensemble 81,9% de la variance totale du modèle."
   ]
  },
  {
   "cell_type": "code",
   "execution_count": 29,
   "id": "3c8a7164",
   "metadata": {
    "execution": {
     "iopub.execute_input": "2023-03-27T13:43:46.336592Z",
     "iopub.status.busy": "2023-03-27T13:43:46.336132Z",
     "iopub.status.idle": "2023-03-27T13:43:46.341468Z",
     "shell.execute_reply": "2023-03-27T13:43:46.340140Z"
    },
    "papermill": {
     "duration": 0.030891,
     "end_time": "2023-03-27T13:43:46.343850",
     "exception": false,
     "start_time": "2023-03-27T13:43:46.312959",
     "status": "completed"
    },
    "tags": []
   },
   "outputs": [],
   "source": [
    "import sklearn\n",
    "from sklearn import linear_model\n",
    "from sklearn.model_selection import train_test_split\n"
   ]
  },
  {
   "cell_type": "code",
   "execution_count": 30,
   "id": "b02f57d5",
   "metadata": {
    "execution": {
     "iopub.execute_input": "2023-03-27T13:43:46.387077Z",
     "iopub.status.busy": "2023-03-27T13:43:46.386252Z",
     "iopub.status.idle": "2023-03-27T13:43:46.585387Z",
     "shell.execute_reply": "2023-03-27T13:43:46.584048Z"
    },
    "papermill": {
     "duration": 0.223742,
     "end_time": "2023-03-27T13:43:46.588183",
     "exception": false,
     "start_time": "2023-03-27T13:43:46.364441",
     "status": "completed"
    },
    "tags": []
   },
   "outputs": [
    {
     "data": {
      "image/png": "[encoded data removed]",
      "text/plain": [
       "<Figure size 640x480 with 1 Axes>"
      ]
     },
     "metadata": {},
     "output_type": "display_data"
    }
   ],
   "source": [
    "# On affiche le nuage de points dont on dispose\n",
    "plt.plot(train['Fare'], train['Survived'], 'ro', markersize=3)\n",
    "plt.show()"
   ]
  },
  {
   "cell_type": "code",
   "execution_count": 31,
   "id": "87f8ed4e",
   "metadata": {
    "execution": {
     "iopub.execute_input": "2023-03-27T13:43:46.631921Z",
     "iopub.status.busy": "2023-03-27T13:43:46.631103Z",
     "iopub.status.idle": "2023-03-27T13:43:46.649427Z",
     "shell.execute_reply": "2023-03-27T13:43:46.648250Z"
    },
    "papermill": {
     "duration": 0.043278,
     "end_time": "2023-03-27T13:43:46.651979",
     "exception": false,
     "start_time": "2023-03-27T13:43:46.608701",
     "status": "completed"
    },
    "tags": []
   },
   "outputs": [
    {
     "data": {
      "text/html": [
       "<div>\n",
       "<style scoped>\n",
       "    .dataframe tbody tr th:only-of-type {\n",
       "        vertical-align: middle;\n",
       "    }\n",
       "\n",
       "    .dataframe tbody tr th {\n",
       "        vertical-align: top;\n",
       "    }\n",
       "\n",
       "    .dataframe thead th {\n",
       "        text-align: right;\n",
       "    }\n",
       "</style>\n",
       "<table border=\"1\" class=\"dataframe\">\n",
       "  <thead>\n",
       "    <tr style=\"text-align: right;\">\n",
       "      <th></th>\n",
       "      <th>PassengerId</th>\n",
       "      <th>Survived</th>\n",
       "      <th>Pclass</th>\n",
       "      <th>Name</th>\n",
       "      <th>Sex</th>\n",
       "      <th>Age</th>\n",
       "      <th>SibSp</th>\n",
       "      <th>Parch</th>\n",
       "      <th>Ticket</th>\n",
       "      <th>Fare</th>\n",
       "      <th>Cabin</th>\n",
       "      <th>Embarked</th>\n",
       "    </tr>\n",
       "  </thead>\n",
       "  <tbody>\n",
       "    <tr>\n",
       "      <th>0</th>\n",
       "      <td>1</td>\n",
       "      <td>0</td>\n",
       "      <td>3.0</td>\n",
       "      <td>Braund, Mr. Owen Harris</td>\n",
       "      <td>male</td>\n",
       "      <td>22.0</td>\n",
       "      <td>1.0</td>\n",
       "      <td>0.0</td>\n",
       "      <td>A/5 21171</td>\n",
       "      <td>7.2500</td>\n",
       "      <td>NaN</td>\n",
       "      <td>S</td>\n",
       "    </tr>\n",
       "    <tr>\n",
       "      <th>1</th>\n",
       "      <td>2</td>\n",
       "      <td>1</td>\n",
       "      <td>1.0</td>\n",
       "      <td>Cumings, Mrs. John Bradley (Florence Briggs Th...</td>\n",
       "      <td>female</td>\n",
       "      <td>38.0</td>\n",
       "      <td>1.0</td>\n",
       "      <td>0.0</td>\n",
       "      <td>PC 17599</td>\n",
       "      <td>71.2833</td>\n",
       "      <td>C85</td>\n",
       "      <td>C</td>\n",
       "    </tr>\n",
       "    <tr>\n",
       "      <th>2</th>\n",
       "      <td>3</td>\n",
       "      <td>1</td>\n",
       "      <td>3.0</td>\n",
       "      <td>Heikkinen, Miss. Laina</td>\n",
       "      <td>female</td>\n",
       "      <td>26.0</td>\n",
       "      <td>0.0</td>\n",
       "      <td>0.0</td>\n",
       "      <td>STON/O2. 3101282</td>\n",
       "      <td>7.9250</td>\n",
       "      <td>NaN</td>\n",
       "      <td>S</td>\n",
       "    </tr>\n",
       "    <tr>\n",
       "      <th>3</th>\n",
       "      <td>4</td>\n",
       "      <td>1</td>\n",
       "      <td>1.0</td>\n",
       "      <td>Futrelle, Mrs. Jacques Heath (Lily May Peel)</td>\n",
       "      <td>female</td>\n",
       "      <td>35.0</td>\n",
       "      <td>1.0</td>\n",
       "      <td>0.0</td>\n",
       "      <td>113803</td>\n",
       "      <td>53.1000</td>\n",
       "      <td>C123</td>\n",
       "      <td>S</td>\n",
       "    </tr>\n",
       "    <tr>\n",
       "      <th>4</th>\n",
       "      <td>5</td>\n",
       "      <td>0</td>\n",
       "      <td>3.0</td>\n",
       "      <td>Allen, Mr. William Henry</td>\n",
       "      <td>male</td>\n",
       "      <td>35.0</td>\n",
       "      <td>0.0</td>\n",
       "      <td>0.0</td>\n",
       "      <td>373450</td>\n",
       "      <td>8.0500</td>\n",
       "      <td>NaN</td>\n",
       "      <td>S</td>\n",
       "    </tr>\n",
       "  </tbody>\n",
       "</table>\n",
       "</div>"
      ],
      "text/plain": [
       "   PassengerId  Survived  Pclass  \\\n",
       "0            1         0     3.0   \n",
       "1            2         1     1.0   \n",
       "2            3         1     3.0   \n",
       "3            4         1     1.0   \n",
       "4            5         0     3.0   \n",
       "\n",
       "                                                Name     Sex   Age  SibSp  \\\n",
       "0                            Braund, Mr. Owen Harris    male  22.0    1.0   \n",
       "1  Cumings, Mrs. John Bradley (Florence Briggs Th...  female  38.0    1.0   \n",
       "2                             Heikkinen, Miss. Laina  female  26.0    0.0   \n",
       "3       Futrelle, Mrs. Jacques Heath (Lily May Peel)  female  35.0    1.0   \n",
       "4                           Allen, Mr. William Henry    male  35.0    0.0   \n",
       "\n",
       "   Parch            Ticket     Fare Cabin Embarked  \n",
       "0    0.0         A/5 21171   7.2500   NaN        S  \n",
       "1    0.0          PC 17599  71.2833   C85        C  \n",
       "2    0.0  STON/O2. 3101282   7.9250   NaN        S  \n",
       "3    0.0            113803  53.1000  C123        S  \n",
       "4    0.0            373450   8.0500   NaN        S  "
      ]
     },
     "execution_count": 31,
     "metadata": {},
     "output_type": "execute_result"
    }
   ],
   "source": [
    "train.head()"
   ]
  },
  {
   "cell_type": "code",
   "execution_count": 32,
   "id": "143c8357",
   "metadata": {
    "execution": {
     "iopub.execute_input": "2023-03-27T13:43:46.696051Z",
     "iopub.status.busy": "2023-03-27T13:43:46.695216Z",
     "iopub.status.idle": "2023-03-27T13:43:46.702606Z",
     "shell.execute_reply": "2023-03-27T13:43:46.701721Z"
    },
    "papermill": {
     "duration": 0.032154,
     "end_time": "2023-03-27T13:43:46.704985",
     "exception": false,
     "start_time": "2023-03-27T13:43:46.672831",
     "status": "completed"
    },
    "tags": []
   },
   "outputs": [],
   "source": [
    "def clean(data):\n",
    "    # dropping the columns that are not significant for survival\n",
    "    droppable_columns = [\"Name\", \"Ticket\", \"Cabin\"] \n",
    "    data = data.drop(droppable_columns, axis=1)\n",
    "    \n",
    "    # \"Age\" missing values replaced by the mean age\n",
    "    data[\"Age\"].fillna(data[\"Age\"].mean(),inplace=True)\n",
    "    # data['Age'] = data[['Age', \"Pclass\"]].apply(age_engineering, axis = 1)\n",
    "\n",
    "    # \"Embarked\" missing values replaced by U(unknown)\n",
    "    data[\"Embarked\"].fillna(\"U\", inplace=True)\n",
    "\n",
    "    # \"SibSp\", \"Parch\" missing values replaced by 0\n",
    "    data[\"SibSp\"].fillna(0, inplace=True)\n",
    "    data[\"Parch\"].fillna(0, inplace=True)\n",
    "\n",
    "    # \"Fare\" missing values replaced by its median\n",
    "    data[\"Fare\"].fillna(data[\"Fare\"].mean(),inplace=True)\n",
    "    \n",
    "    return data"
   ]
  },
  {
   "cell_type": "code",
   "execution_count": 33,
   "id": "c0d16c27",
   "metadata": {
    "execution": {
     "iopub.execute_input": "2023-03-27T13:43:46.748908Z",
     "iopub.status.busy": "2023-03-27T13:43:46.748156Z",
     "iopub.status.idle": "2023-03-27T13:43:46.753030Z",
     "shell.execute_reply": "2023-03-27T13:43:46.751822Z"
    },
    "papermill": {
     "duration": 0.029647,
     "end_time": "2023-03-27T13:43:46.755446",
     "exception": false,
     "start_time": "2023-03-27T13:43:46.725799",
     "status": "completed"
    },
    "tags": []
   },
   "outputs": [],
   "source": [
    "train_data = train\n",
    "test_data = test"
   ]
  },
  {
   "cell_type": "code",
   "execution_count": 34,
   "id": "79ce0def",
   "metadata": {
    "execution": {
     "iopub.execute_input": "2023-03-27T13:43:46.799126Z",
     "iopub.status.busy": "2023-03-27T13:43:46.798684Z",
     "iopub.status.idle": "2023-03-27T13:43:47.200876Z",
     "shell.execute_reply": "2023-03-27T13:43:47.199622Z"
    },
    "papermill": {
     "duration": 0.427551,
     "end_time": "2023-03-27T13:43:47.203790",
     "exception": false,
     "start_time": "2023-03-27T13:43:46.776239",
     "status": "completed"
    },
    "tags": []
   },
   "outputs": [
    {
     "name": "stdout",
     "output_type": "stream",
     "text": [
      "count    891.000000\n",
      "mean      30.072994\n",
      "std       13.535226\n",
      "min        0.420000\n",
      "25%       22.000000\n",
      "50%       28.000000\n",
      "75%       38.500000\n",
      "max       80.000000\n",
      "Name: Age, dtype: float64\n"
     ]
    },
    {
     "data": {
      "text/plain": [
       "<seaborn.axisgrid.FacetGrid at 0x7f83e808ca50>"
      ]
     },
     "execution_count": 34,
     "metadata": {},
     "output_type": "execute_result"
    },
    {
     "data": {
      "image/png": "[encoded data removed]",
      "text/plain": [
       "<Figure size 500x500 with 1 Axes>"
      ]
     },
     "metadata": {},
     "output_type": "display_data"
    }
   ],
   "source": [
    "print(train_data[\"Age\"].describe())\n",
    "sns.displot(x='Age',data=train_data)"
   ]
  },
  {
   "cell_type": "code",
   "execution_count": 35,
   "id": "3bb630c4",
   "metadata": {
    "execution": {
     "iopub.execute_input": "2023-03-27T13:43:47.252394Z",
     "iopub.status.busy": "2023-03-27T13:43:47.251949Z",
     "iopub.status.idle": "2023-03-27T13:43:47.563724Z",
     "shell.execute_reply": "2023-03-27T13:43:47.562605Z"
    },
    "papermill": {
     "duration": 0.341181,
     "end_time": "2023-03-27T13:43:47.566574",
     "exception": false,
     "start_time": "2023-03-27T13:43:47.225393",
     "status": "completed"
    },
    "tags": []
   },
   "outputs": [
    {
     "name": "stdout",
     "output_type": "stream",
     "text": [
      "count      891\n",
      "unique       2\n",
      "top       male\n",
      "freq       577\n",
      "Name: Sex, dtype: object\n"
     ]
    },
    {
     "data": {
      "text/plain": [
       "<seaborn.axisgrid.FacetGrid at 0x7f83e7f44710>"
      ]
     },
     "execution_count": 35,
     "metadata": {},
     "output_type": "execute_result"
    },
    {
     "data": {
      "image/png": "[encoded data removed]",
      "text/plain": [
       "<Figure size 500x500 with 1 Axes>"
      ]
     },
     "metadata": {},
     "output_type": "display_data"
    }
   ],
   "source": [
    "print(train_data[\"Sex\"].describe())\n",
    "sns.displot(x='Sex',data=train_data)"
   ]
  },
  {
   "cell_type": "code",
   "execution_count": 36,
   "id": "86ba217a",
   "metadata": {
    "execution": {
     "iopub.execute_input": "2023-03-27T13:43:47.612928Z",
     "iopub.status.busy": "2023-03-27T13:43:47.612449Z",
     "iopub.status.idle": "2023-03-27T13:43:47.933202Z",
     "shell.execute_reply": "2023-03-27T13:43:47.931834Z"
    },
    "papermill": {
     "duration": 0.347515,
     "end_time": "2023-03-27T13:43:47.936142",
     "exception": false,
     "start_time": "2023-03-27T13:43:47.588627",
     "status": "completed"
    },
    "tags": []
   },
   "outputs": [
    {
     "name": "stdout",
     "output_type": "stream",
     "text": [
      "count     889\n",
      "unique      3\n",
      "top         S\n",
      "freq      644\n",
      "Name: Embarked, dtype: object\n"
     ]
    },
    {
     "data": {
      "text/plain": [
       "<seaborn.axisgrid.FacetGrid at 0x7f83e7e8d750>"
      ]
     },
     "execution_count": 36,
     "metadata": {},
     "output_type": "execute_result"
    },
    {
     "data": {
      "image/png": "[encoded data removed]",
      "text/plain": [
       "<Figure size 500x500 with 1 Axes>"
      ]
     },
     "metadata": {},
     "output_type": "display_data"
    }
   ],
   "source": [
    "print(train_data[\"Embarked\"].describe())\n",
    "sns.displot(x='Embarked',data=train_data)"
   ]
  },
  {
   "cell_type": "code",
   "execution_count": 37,
   "id": "e61dbb76",
   "metadata": {
    "execution": {
     "iopub.execute_input": "2023-03-27T13:43:47.983796Z",
     "iopub.status.busy": "2023-03-27T13:43:47.982939Z",
     "iopub.status.idle": "2023-03-27T13:43:48.534105Z",
     "shell.execute_reply": "2023-03-27T13:43:48.532794Z"
    },
    "papermill": {
     "duration": 0.578158,
     "end_time": "2023-03-27T13:43:48.536907",
     "exception": false,
     "start_time": "2023-03-27T13:43:47.958749",
     "status": "completed"
    },
    "tags": []
   },
   "outputs": [
    {
     "name": "stdout",
     "output_type": "stream",
     "text": [
      "count    891.000000\n",
      "mean      32.204208\n",
      "std       49.693429\n",
      "min        0.000000\n",
      "25%        7.910400\n",
      "50%       14.454200\n",
      "75%       31.000000\n",
      "max      512.329200\n",
      "Name: Fare, dtype: float64\n"
     ]
    },
    {
     "data": {
      "text/plain": [
       "<seaborn.axisgrid.FacetGrid at 0x7f83e7faa810>"
      ]
     },
     "execution_count": 37,
     "metadata": {},
     "output_type": "execute_result"
    },
    {
     "data": {
      "image/png": "[encoded data removed]",
      "text/plain": [
       "<Figure size 500x500 with 1 Axes>"
      ]
     },
     "metadata": {},
     "output_type": "display_data"
    }
   ],
   "source": [
    "print(train_data[\"Fare\"].describe())\n",
    "sns.displot(x='Fare',data=train_data)"
   ]
  },
  {
   "cell_type": "code",
   "execution_count": 38,
   "id": "5df3e234",
   "metadata": {
    "execution": {
     "iopub.execute_input": "2023-03-27T13:43:48.586006Z",
     "iopub.status.busy": "2023-03-27T13:43:48.584812Z",
     "iopub.status.idle": "2023-03-27T13:43:48.974880Z",
     "shell.execute_reply": "2023-03-27T13:43:48.973614Z"
    },
    "papermill": {
     "duration": 0.417267,
     "end_time": "2023-03-27T13:43:48.977575",
     "exception": false,
     "start_time": "2023-03-27T13:43:48.560308",
     "status": "completed"
    },
    "tags": []
   },
   "outputs": [
    {
     "data": {
      "text/plain": [
       "<seaborn.axisgrid.FacetGrid at 0x7f83e7f23d90>"
      ]
     },
     "execution_count": 38,
     "metadata": {},
     "output_type": "execute_result"
    },
    {
     "data": {
      "image/png": "[encoded data removed]",
      "text/plain": [
       "<Figure size 572.111x500 with 1 Axes>"
      ]
     },
     "metadata": {},
     "output_type": "display_data"
    }
   ],
   "source": [
    "sns.catplot(data=train_data, y=\"Pclass\", hue=\"Survived\", kind=\"count\", palette=\"pastel\", edgecolor=\".6\")"
   ]
  },
  {
   "cell_type": "code",
   "execution_count": 39,
   "id": "ecbfa50b",
   "metadata": {
    "execution": {
     "iopub.execute_input": "2023-03-27T13:43:49.027030Z",
     "iopub.status.busy": "2023-03-27T13:43:49.025895Z",
     "iopub.status.idle": "2023-03-27T13:43:49.375638Z",
     "shell.execute_reply": "2023-03-27T13:43:49.374383Z"
    },
    "papermill": {
     "duration": 0.377378,
     "end_time": "2023-03-27T13:43:49.378559",
     "exception": false,
     "start_time": "2023-03-27T13:43:49.001181",
     "status": "completed"
    },
    "tags": []
   },
   "outputs": [
    {
     "data": {
      "text/plain": [
       "<AxesSubplot:xlabel='Pclass', ylabel='Age'>"
      ]
     },
     "execution_count": 39,
     "metadata": {},
     "output_type": "execute_result"
    },
    {
     "data": {
      "image/png": "[encoded data removed]",
      "text/plain": [
       "<Figure size 640x480 with 1 Axes>"
      ]
     },
     "metadata": {},
     "output_type": "display_data"
    }
   ],
   "source": [
    "sns.boxplot(data=train_data, x=\"Pclass\", y=\"Age\", hue=\"Survived\")\n"
   ]
  },
  {
   "cell_type": "code",
   "execution_count": 40,
   "id": "9f828cde",
   "metadata": {
    "execution": {
     "iopub.execute_input": "2023-03-27T13:43:49.428431Z",
     "iopub.status.busy": "2023-03-27T13:43:49.427985Z",
     "iopub.status.idle": "2023-03-27T13:43:49.753986Z",
     "shell.execute_reply": "2023-03-27T13:43:49.752828Z"
    },
    "papermill": {
     "duration": 0.354177,
     "end_time": "2023-03-27T13:43:49.756622",
     "exception": false,
     "start_time": "2023-03-27T13:43:49.402445",
     "status": "completed"
    },
    "tags": []
   },
   "outputs": [
    {
     "data": {
      "text/plain": [
       "<AxesSubplot:xlabel='Age', ylabel='Sex'>"
      ]
     },
     "execution_count": 40,
     "metadata": {},
     "output_type": "execute_result"
    },
    {
     "data": {
      "image/png": "[encoded data removed]",
      "text/plain": [
       "<Figure size 640x480 with 1 Axes>"
      ]
     },
     "metadata": {},
     "output_type": "display_data"
    }
   ],
   "source": [
    "sns.boxplot(data=train_data, x=\"Age\", y=\"Sex\", hue=\"Survived\")\n"
   ]
  },
  {
   "cell_type": "code",
   "execution_count": 41,
   "id": "d7294229",
   "metadata": {
    "execution": {
     "iopub.execute_input": "2023-03-27T13:43:49.810935Z",
     "iopub.status.busy": "2023-03-27T13:43:49.810019Z",
     "iopub.status.idle": "2023-03-27T13:43:50.148416Z",
     "shell.execute_reply": "2023-03-27T13:43:50.146994Z"
    },
    "papermill": {
     "duration": 0.368982,
     "end_time": "2023-03-27T13:43:50.151113",
     "exception": false,
     "start_time": "2023-03-27T13:43:49.782131",
     "status": "completed"
    },
    "tags": []
   },
   "outputs": [
    {
     "data": {
      "text/plain": [
       "<AxesSubplot:xlabel='Embarked', ylabel='Age'>"
      ]
     },
     "execution_count": 41,
     "metadata": {},
     "output_type": "execute_result"
    },
    {
     "data": {
      "image/png": "[encoded data removed]",
      "text/plain": [
       "<Figure size 640x480 with 1 Axes>"
      ]
     },
     "metadata": {},
     "output_type": "display_data"
    }
   ],
   "source": [
    "sns.boxplot(data=train_data, x=\"Embarked\", y=\"Age\", hue=\"Survived\")\n"
   ]
  },
  {
   "cell_type": "code",
   "execution_count": 42,
   "id": "6bbf6287",
   "metadata": {
    "execution": {
     "iopub.execute_input": "2023-03-27T13:43:50.204390Z",
     "iopub.status.busy": "2023-03-27T13:43:50.203176Z",
     "iopub.status.idle": "2023-03-27T13:43:50.645939Z",
     "shell.execute_reply": "2023-03-27T13:43:50.644730Z"
    },
    "papermill": {
     "duration": 0.472416,
     "end_time": "2023-03-27T13:43:50.648774",
     "exception": false,
     "start_time": "2023-03-27T13:43:50.176358",
     "status": "completed"
    },
    "tags": []
   },
   "outputs": [
    {
     "data": {
      "text/plain": [
       "<seaborn.axisgrid.FacetGrid at 0x7f83e794b490>"
      ]
     },
     "execution_count": 42,
     "metadata": {},
     "output_type": "execute_result"
    },
    {
     "data": {
      "image/png": "[encoded data removed]",
      "text/plain": [
       "<Figure size 572.111x500 with 1 Axes>"
      ]
     },
     "metadata": {},
     "output_type": "display_data"
    }
   ],
   "source": [
    "sns.catplot(data=train_data, y=\"SibSp\", hue=\"Survived\", kind=\"count\", palette=\"pastel\", edgecolor=\".6\")"
   ]
  },
  {
   "cell_type": "code",
   "execution_count": 43,
   "id": "1a140330",
   "metadata": {
    "execution": {
     "iopub.execute_input": "2023-03-27T13:43:50.701124Z",
     "iopub.status.busy": "2023-03-27T13:43:50.700172Z",
     "iopub.status.idle": "2023-03-27T13:43:51.005326Z",
     "shell.execute_reply": "2023-03-27T13:43:51.004066Z"
    },
    "papermill": {
     "duration": 0.334199,
     "end_time": "2023-03-27T13:43:51.007984",
     "exception": false,
     "start_time": "2023-03-27T13:43:50.673785",
     "status": "completed"
    },
    "tags": []
   },
   "outputs": [
    {
     "data": {
      "text/plain": [
       "<seaborn.axisgrid.FacetGrid at 0x7f83e78a5690>"
      ]
     },
     "execution_count": 43,
     "metadata": {},
     "output_type": "execute_result"
    },
    {
     "data": {
      "image/png": "[encoded data removed]",
      "text/plain": [
       "<Figure size 572.111x500 with 1 Axes>"
      ]
     },
     "metadata": {},
     "output_type": "display_data"
    }
   ],
   "source": [
    "sns.catplot(data=train_data, y=\"Embarked\", hue=\"Survived\", kind=\"count\", palette=\"pastel\", edgecolor=\".6\")"
   ]
  },
  {
   "cell_type": "code",
   "execution_count": 44,
   "id": "33f24ae3",
   "metadata": {
    "execution": {
     "iopub.execute_input": "2023-03-27T13:43:51.061625Z",
     "iopub.status.busy": "2023-03-27T13:43:51.060306Z",
     "iopub.status.idle": "2023-03-27T13:43:51.326768Z",
     "shell.execute_reply": "2023-03-27T13:43:51.325500Z"
    },
    "papermill": {
     "duration": 0.296935,
     "end_time": "2023-03-27T13:43:51.330364",
     "exception": false,
     "start_time": "2023-03-27T13:43:51.033429",
     "status": "completed"
    },
    "tags": []
   },
   "outputs": [
    {
     "data": {
      "text/plain": [
       "<seaborn.axisgrid.FacetGrid at 0x7f83e77d1c50>"
      ]
     },
     "execution_count": 44,
     "metadata": {},
     "output_type": "execute_result"
    },
    {
     "data": {
      "image/png": "[encoded data removed]",
      "text/plain": [
       "<Figure size 572.111x500 with 1 Axes>"
      ]
     },
     "metadata": {},
     "output_type": "display_data"
    }
   ],
   "source": [
    "sns.catplot(data=train_data, y=\"Sex\", hue=\"Survived\", kind=\"count\", palette=\"pastel\", edgecolor=\".6\")"
   ]
  },
  {
   "cell_type": "code",
   "execution_count": 45,
   "id": "59db8497",
   "metadata": {
    "execution": {
     "iopub.execute_input": "2023-03-27T13:43:51.387485Z",
     "iopub.status.busy": "2023-03-27T13:43:51.386241Z",
     "iopub.status.idle": "2023-03-27T13:43:51.935038Z",
     "shell.execute_reply": "2023-03-27T13:43:51.933686Z"
    },
    "papermill": {
     "duration": 0.578972,
     "end_time": "2023-03-27T13:43:51.937738",
     "exception": false,
     "start_time": "2023-03-27T13:43:51.358766",
     "status": "completed"
    },
    "tags": []
   },
   "outputs": [
    {
     "data": {
      "text/plain": [
       "<seaborn.axisgrid.FacetGrid at 0x7f83e776ba90>"
      ]
     },
     "execution_count": 45,
     "metadata": {},
     "output_type": "execute_result"
    },
    {
     "data": {
      "image/png": "[encoded data removed]",
      "text/plain": [
       "<Figure size 572.111x500 with 1 Axes>"
      ]
     },
     "metadata": {},
     "output_type": "display_data"
    }
   ],
   "source": [
    "sns.catplot(data=train_data, y=\"Pclass\", hue=\"Survived\", kind=\"count\", palette=\"pastel\", edgecolor=\".6\")"
   ]
  },
  {
   "cell_type": "code",
   "execution_count": 46,
   "id": "0c4701a9",
   "metadata": {
    "execution": {
     "iopub.execute_input": "2023-03-27T13:43:51.992931Z",
     "iopub.status.busy": "2023-03-27T13:43:51.992491Z",
     "iopub.status.idle": "2023-03-27T13:43:51.998027Z",
     "shell.execute_reply": "2023-03-27T13:43:51.996889Z"
    },
    "papermill": {
     "duration": 0.036038,
     "end_time": "2023-03-27T13:43:52.000334",
     "exception": false,
     "start_time": "2023-03-27T13:43:51.964296",
     "status": "completed"
    },
    "tags": []
   },
   "outputs": [],
   "source": [
    "from sklearn.preprocessing import LabelEncoder\n",
    "from sklearn.model_selection import train_test_split\n",
    "from sklearn.linear_model import LogisticRegression\n",
    "from sklearn.metrics import accuracy_score\n",
    "\n"
   ]
  },
  {
   "cell_type": "markdown",
   "id": "feabded0",
   "metadata": {
    "papermill": {
     "duration": 0.026227,
     "end_time": "2023-03-27T13:43:52.053207",
     "exception": false,
     "start_time": "2023-03-27T13:43:52.026980",
     "status": "completed"
    },
    "tags": []
   },
   "source": [
    "# Logistic Revolution"
   ]
  },
  {
   "cell_type": "markdown",
   "id": "b6cad188",
   "metadata": {
    "papermill": {
     "duration": 0.026553,
     "end_time": "2023-03-27T13:43:52.106161",
     "exception": false,
     "start_time": "2023-03-27T13:43:52.079608",
     "status": "completed"
    },
    "tags": []
   },
   "source": [
    "Logistic Revolution"
   ]
  },
  {
   "cell_type": "code",
   "execution_count": 47,
   "id": "2b00a244",
   "metadata": {
    "execution": {
     "iopub.execute_input": "2023-03-27T13:43:52.161241Z",
     "iopub.status.busy": "2023-03-27T13:43:52.160778Z",
     "iopub.status.idle": "2023-03-27T13:43:52.181145Z",
     "shell.execute_reply": "2023-03-27T13:43:52.180230Z"
    },
    "papermill": {
     "duration": 0.050923,
     "end_time": "2023-03-27T13:43:52.183487",
     "exception": false,
     "start_time": "2023-03-27T13:43:52.132564",
     "status": "completed"
    },
    "tags": []
   },
   "outputs": [
    {
     "data": {
      "text/html": [
       "<div>\n",
       "<style scoped>\n",
       "    .dataframe tbody tr th:only-of-type {\n",
       "        vertical-align: middle;\n",
       "    }\n",
       "\n",
       "    .dataframe tbody tr th {\n",
       "        vertical-align: top;\n",
       "    }\n",
       "\n",
       "    .dataframe thead th {\n",
       "        text-align: right;\n",
       "    }\n",
       "</style>\n",
       "<table border=\"1\" class=\"dataframe\">\n",
       "  <thead>\n",
       "    <tr style=\"text-align: right;\">\n",
       "      <th></th>\n",
       "      <th>PassengerId</th>\n",
       "      <th>Survived</th>\n",
       "      <th>Pclass</th>\n",
       "      <th>Name</th>\n",
       "      <th>Sex</th>\n",
       "      <th>Age</th>\n",
       "      <th>SibSp</th>\n",
       "      <th>Parch</th>\n",
       "      <th>Ticket</th>\n",
       "      <th>Fare</th>\n",
       "      <th>Cabin</th>\n",
       "      <th>Embarked</th>\n",
       "    </tr>\n",
       "  </thead>\n",
       "  <tbody>\n",
       "    <tr>\n",
       "      <th>0</th>\n",
       "      <td>1</td>\n",
       "      <td>0</td>\n",
       "      <td>3.0</td>\n",
       "      <td>Braund, Mr. Owen Harris</td>\n",
       "      <td>male</td>\n",
       "      <td>22.0</td>\n",
       "      <td>1.0</td>\n",
       "      <td>0.0</td>\n",
       "      <td>A/5 21171</td>\n",
       "      <td>7.2500</td>\n",
       "      <td>NaN</td>\n",
       "      <td>S</td>\n",
       "    </tr>\n",
       "    <tr>\n",
       "      <th>1</th>\n",
       "      <td>2</td>\n",
       "      <td>1</td>\n",
       "      <td>1.0</td>\n",
       "      <td>Cumings, Mrs. John Bradley (Florence Briggs Th...</td>\n",
       "      <td>female</td>\n",
       "      <td>38.0</td>\n",
       "      <td>1.0</td>\n",
       "      <td>0.0</td>\n",
       "      <td>PC 17599</td>\n",
       "      <td>71.2833</td>\n",
       "      <td>C85</td>\n",
       "      <td>C</td>\n",
       "    </tr>\n",
       "    <tr>\n",
       "      <th>2</th>\n",
       "      <td>3</td>\n",
       "      <td>1</td>\n",
       "      <td>3.0</td>\n",
       "      <td>Heikkinen, Miss. Laina</td>\n",
       "      <td>female</td>\n",
       "      <td>26.0</td>\n",
       "      <td>0.0</td>\n",
       "      <td>0.0</td>\n",
       "      <td>STON/O2. 3101282</td>\n",
       "      <td>7.9250</td>\n",
       "      <td>NaN</td>\n",
       "      <td>S</td>\n",
       "    </tr>\n",
       "    <tr>\n",
       "      <th>3</th>\n",
       "      <td>4</td>\n",
       "      <td>1</td>\n",
       "      <td>1.0</td>\n",
       "      <td>Futrelle, Mrs. Jacques Heath (Lily May Peel)</td>\n",
       "      <td>female</td>\n",
       "      <td>35.0</td>\n",
       "      <td>1.0</td>\n",
       "      <td>0.0</td>\n",
       "      <td>113803</td>\n",
       "      <td>53.1000</td>\n",
       "      <td>C123</td>\n",
       "      <td>S</td>\n",
       "    </tr>\n",
       "    <tr>\n",
       "      <th>4</th>\n",
       "      <td>5</td>\n",
       "      <td>0</td>\n",
       "      <td>3.0</td>\n",
       "      <td>Allen, Mr. William Henry</td>\n",
       "      <td>male</td>\n",
       "      <td>35.0</td>\n",
       "      <td>0.0</td>\n",
       "      <td>0.0</td>\n",
       "      <td>373450</td>\n",
       "      <td>8.0500</td>\n",
       "      <td>NaN</td>\n",
       "      <td>S</td>\n",
       "    </tr>\n",
       "  </tbody>\n",
       "</table>\n",
       "</div>"
      ],
      "text/plain": [
       "   PassengerId  Survived  Pclass  \\\n",
       "0            1         0     3.0   \n",
       "1            2         1     1.0   \n",
       "2            3         1     3.0   \n",
       "3            4         1     1.0   \n",
       "4            5         0     3.0   \n",
       "\n",
       "                                                Name     Sex   Age  SibSp  \\\n",
       "0                            Braund, Mr. Owen Harris    male  22.0    1.0   \n",
       "1  Cumings, Mrs. John Bradley (Florence Briggs Th...  female  38.0    1.0   \n",
       "2                             Heikkinen, Miss. Laina  female  26.0    0.0   \n",
       "3       Futrelle, Mrs. Jacques Heath (Lily May Peel)  female  35.0    1.0   \n",
       "4                           Allen, Mr. William Henry    male  35.0    0.0   \n",
       "\n",
       "   Parch            Ticket     Fare Cabin Embarked  \n",
       "0    0.0         A/5 21171   7.2500   NaN        S  \n",
       "1    0.0          PC 17599  71.2833   C85        C  \n",
       "2    0.0  STON/O2. 3101282   7.9250   NaN        S  \n",
       "3    0.0            113803  53.1000  C123        S  \n",
       "4    0.0            373450   8.0500   NaN        S  "
      ]
     },
     "execution_count": 47,
     "metadata": {},
     "output_type": "execute_result"
    }
   ],
   "source": [
    "train.head()"
   ]
  },
  {
   "cell_type": "code",
   "execution_count": 48,
   "id": "e48d9f5a",
   "metadata": {
    "execution": {
     "iopub.execute_input": "2023-03-27T13:43:52.239306Z",
     "iopub.status.busy": "2023-03-27T13:43:52.238819Z",
     "iopub.status.idle": "2023-03-27T13:43:52.341261Z",
     "shell.execute_reply": "2023-03-27T13:43:52.338003Z"
    },
    "papermill": {
     "duration": 0.136341,
     "end_time": "2023-03-27T13:43:52.346502",
     "exception": false,
     "start_time": "2023-03-27T13:43:52.210161",
     "status": "completed"
    },
    "tags": []
   },
   "outputs": [
    {
     "name": "stdout",
     "output_type": "stream",
     "text": [
      "Accuracy: 0.8044692737430168\n"
     ]
    },
    {
     "name": "stderr",
     "output_type": "stream",
     "text": [
      "/opt/conda/lib/python3.7/site-packages/sklearn/linear_model/_logistic.py:818: ConvergenceWarning: lbfgs failed to converge (status=1):\n",
      "STOP: TOTAL NO. of ITERATIONS REACHED LIMIT.\n",
      "\n",
      "Increase the number of iterations (max_iter) or scale the data as shown in:\n",
      "    https://scikit-learn.org/stable/modules/preprocessing.html\n",
      "Please also refer to the documentation for alternative solver options:\n",
      "    https://scikit-learn.org/stable/modules/linear_model.html#logistic-regression\n",
      "  extra_warning_msg=_LOGISTIC_SOLVER_CONVERGENCE_MSG,\n"
     ]
    }
   ],
   "source": [
    "#Nettoyage\n",
    "train = clean(train)\n",
    "#Logistic Revolution\n",
    "\n",
    "\n",
    "# Convertir les variables catégorielles en données numériques en utilisant l'encodage one-hot\n",
    "#permet de créer des variables indicatrices à partir d'une variable catégorielle en représentant chaque catégorie comme une variable binaire.\n",
    "#Cela est utile dans la préparation de données pour les algorithmes de machine learning \n",
    "\n",
    "train = pd.get_dummies(train, columns=[\"Sex\", \"Embarked\", \"Pclass\"])\n",
    "\n",
    "\n",
    "# Séparer les données en ensembles d'entraînement et de test\n",
    "X_train, X_test, y_train, y_test = train_test_split(train.drop(\"Survived\", axis=1), train[\"Survived\"], test_size=0.2,random_state=42)\n",
    "\n",
    "# Construire un modèle de régression logistique\n",
    "model = LogisticRegression()\n",
    "model.fit(X_train, y_train)\n",
    "\n",
    "# Prédire les résultats sur les données de test\n",
    "y_pred = model.predict(X_test)\n",
    "\n",
    "# Calculer la précision du modèle\n",
    "accuracy = accuracy_score(y_test, y_pred)\n",
    "print(\"Accuracy:\", accuracy)\n",
    "\n"
   ]
  },
  {
   "cell_type": "code",
   "execution_count": 49,
   "id": "cee07ce2",
   "metadata": {
    "execution": {
     "iopub.execute_input": "2023-03-27T13:43:52.463725Z",
     "iopub.status.busy": "2023-03-27T13:43:52.463335Z",
     "iopub.status.idle": "2023-03-27T13:43:52.471604Z",
     "shell.execute_reply": "2023-03-27T13:43:52.470459Z"
    },
    "papermill": {
     "duration": 0.056505,
     "end_time": "2023-03-27T13:43:52.473969",
     "exception": false,
     "start_time": "2023-03-27T13:43:52.417464",
     "status": "completed"
    },
    "tags": []
   },
   "outputs": [
    {
     "data": {
      "text/plain": [
       "'# Convertir les variables catégorielles en données numériques en utilisant l\\'encodage one-hot\\n# permet de créer des variables indicatrices à partir d\\'une variable catégorielle en représentant chaque catégorie comme une variable binaire.\\n# Cela est utile dans la préparation de données pour les algorithmes de machine learning \\n\\n# Afficher les noms de colonnes actuels dans les données\\nprint(train.columns)\\n\\n# Renommer les colonnes pour qu\\'elles correspondent aux noms fournis à la méthode pd.get_dummies()\\ntrain = train.rename(columns={\"Sexe\": \"Sex\", \"Embarquement\": \"Embarked\", \"Classe\": \"Pclass\"})\\n\\n# Encoder les variables catégorielles en variables numériques\\ntrain = pd.get_dummies(train, columns=[\"Sex\", \"Embarked\", \"Pclass\"])\\n\\n# Séparer les données en ensembles d\\'entraînement et de test\\nX_train, X_test, y_train, y_test = train_test_split(train.drop(\"Survived\", axis=1), train[\"Survived\"], test_size=0.2, random_state=42)\\n\\n# Construire un modèle de régression logistique\\nmodel = LogisticRegression()\\nmodel.fit(X_train, y_train)\\n\\n# Prédire les résultats sur les données de test\\ny_pred = model.predict(X_test)\\n\\n# Calculer la précision du modèle\\naccuracy = accuracy_score(y_test, y_pred)\\nprint(\"Accuracy:\", accuracy)\\n'"
      ]
     },
     "execution_count": 49,
     "metadata": {},
     "output_type": "execute_result"
    }
   ],
   "source": [
    "\"\"\"# Convertir les variables catégorielles en données numériques en utilisant l'encodage one-hot\n",
    "# permet de créer des variables indicatrices à partir d'une variable catégorielle en représentant chaque catégorie comme une variable binaire.\n",
    "# Cela est utile dans la préparation de données pour les algorithmes de machine learning \n",
    "\n",
    "# Afficher les noms de colonnes actuels dans les données\n",
    "print(train.columns)\n",
    "\n",
    "# Renommer les colonnes pour qu'elles correspondent aux noms fournis à la méthode pd.get_dummies()\n",
    "train = train.rename(columns={\"Sexe\": \"Sex\", \"Embarquement\": \"Embarked\", \"Classe\": \"Pclass\"})\n",
    "\n",
    "# Encoder les variables catégorielles en variables numériques\n",
    "train = pd.get_dummies(train, columns=[\"Sex\", \"Embarked\", \"Pclass\"])\n",
    "\n",
    "# Séparer les données en ensembles d'entraînement et de test\n",
    "X_train, X_test, y_train, y_test = train_test_split(train.drop(\"Survived\", axis=1), train[\"Survived\"], test_size=0.2, random_state=42)\n",
    "\n",
    "# Construire un modèle de régression logistique\n",
    "model = LogisticRegression()\n",
    "model.fit(X_train, y_train)\n",
    "\n",
    "# Prédire les résultats sur les données de test\n",
    "y_pred = model.predict(X_test)\n",
    "\n",
    "# Calculer la précision du modèle\n",
    "accuracy = accuracy_score(y_test, y_pred)\n",
    "print(\"Accuracy:\", accuracy)\n",
    "\"\"\""
   ]
  },
  {
   "cell_type": "markdown",
   "id": "dedd01c5",
   "metadata": {
    "papermill": {
     "duration": 0.027585,
     "end_time": "2023-03-27T13:43:52.528510",
     "exception": false,
     "start_time": "2023-03-27T13:43:52.500925",
     "status": "completed"
    },
    "tags": []
   },
   "source": [
    "**"
   ]
  }
 ],
 "metadata": {
  "kernelspec": {
   "display_name": "Python 3",
   "language": "python",
   "name": "python3"
  },
  "language_info": {
   "codemirror_mode": {
    "name": "ipython",
    "version": 3
   },
   "file_extension": ".py",
   "mimetype": "text/x-python",
   "name": "python",
   "nbconvert_exporter": "python",
   "pygments_lexer": "ipython3",
   "version": "3.7.12"
  },
  "papermill": {
   "default_parameters": {},
   "duration": 25.094805,
   "end_time": "2023-03-27T13:43:53.580117",
   "environment_variables": {},
   "exception": null,
   "input_path": "__notebook__.ipynb",
   "output_path": "__notebook__.ipynb",
   "parameters": {},
   "start_time": "2023-03-27T13:43:28.485312",
   "version": "2.4.0"
  }
 },
 "nbformat": 4,
 "nbformat_minor": 5
}
